{
 "cells": [
  {
   "cell_type": "markdown",
   "id": "2dda30a5",
   "metadata": {},
   "source": [
    "## Functions in python"
   ]
  },
  {
   "cell_type": "markdown",
   "id": "043dd0f7",
   "metadata": {},
   "source": [
    "## User Defined function in python\n"
   ]
  },
  {
   "cell_type": "code",
   "execution_count": 1,
   "id": "7817a67a",
   "metadata": {},
   "outputs": [],
   "source": [
    "def add(x,y):\n",
    "    \"\"\"\n",
    "    Input : Two numbers as input\n",
    "    Output : Addition of Two numbers\n",
    "    \n",
    "    \"\"\"\n",
    "    z = x+y\n",
    "    return z"
   ]
  },
  {
   "cell_type": "code",
   "execution_count": 2,
   "id": "062370d7",
   "metadata": {},
   "outputs": [
    {
     "data": {
      "text/plain": [
       "22"
      ]
     },
     "execution_count": 2,
     "metadata": {},
     "output_type": "execute_result"
    }
   ],
   "source": [
    "add(10,12)"
   ]
  },
  {
   "cell_type": "code",
   "execution_count": 3,
   "id": "f28c6fd9",
   "metadata": {},
   "outputs": [
    {
     "data": {
      "text/plain": [
       "10.7"
      ]
     },
     "execution_count": 3,
     "metadata": {},
     "output_type": "execute_result"
    }
   ],
   "source": [
    "add(4.8,5.9)"
   ]
  },
  {
   "cell_type": "code",
   "execution_count": 4,
   "id": "538c9b4d",
   "metadata": {},
   "outputs": [
    {
     "name": "stdout",
     "output_type": "stream",
     "text": [
      "Help on function add in module __main__:\n",
      "\n",
      "add(x, y)\n",
      "    Input : Two numbers as input\n",
      "    Output : Addition of Two numbers\n",
      "\n"
     ]
    }
   ],
   "source": [
    "help(add)"
   ]
  },
  {
   "cell_type": "code",
   "execution_count": 5,
   "id": "6f5c15ec",
   "metadata": {},
   "outputs": [
    {
     "data": {
      "text/plain": [
       "26"
      ]
     },
     "execution_count": 5,
     "metadata": {},
     "output_type": "execute_result"
    }
   ],
   "source": [
    "result=add(15,11)\n",
    "result"
   ]
  },
  {
   "cell_type": "markdown",
   "id": "9d9b6f2d",
   "metadata": {},
   "source": [
    "### 2. Write a function in python to output cube of a given number."
   ]
  },
  {
   "cell_type": "code",
   "execution_count": 6,
   "id": "b0bb1869",
   "metadata": {},
   "outputs": [
    {
     "data": {
      "text/plain": [
       "512"
      ]
     },
     "execution_count": 6,
     "metadata": {},
     "output_type": "execute_result"
    }
   ],
   "source": [
    "8*8*8"
   ]
  },
  {
   "cell_type": "code",
   "execution_count": 7,
   "id": "54b3c3f0",
   "metadata": {},
   "outputs": [
    {
     "data": {
      "text/plain": [
       "729"
      ]
     },
     "execution_count": 7,
     "metadata": {},
     "output_type": "execute_result"
    }
   ],
   "source": [
    "9**3"
   ]
  },
  {
   "cell_type": "code",
   "execution_count": 8,
   "id": "8871bff0",
   "metadata": {},
   "outputs": [],
   "source": [
    "def cube(n):\n",
    "    \"\"\"\n",
    "    Input : Any Number\n",
    "    Output : Cube of the given number\n",
    "    \"\"\"\n",
    "    c = n**3\n",
    "    print(f'Cube of given number {n:.4f} is {c:.4f}')\n",
    "    return c"
   ]
  },
  {
   "cell_type": "code",
   "execution_count": 9,
   "id": "ebf46e23",
   "metadata": {},
   "outputs": [],
   "source": [
    "def cube(n):\n",
    "    \"\"\"\n",
    "    To get cube of any number we have to give input then we get cube as a output.\n",
    "    \n",
    "    \"\"\"\n",
    "    c=n**3\n",
    "    return c\n",
    " "
   ]
  },
  {
   "cell_type": "code",
   "execution_count": 14,
   "id": "251b82db",
   "metadata": {},
   "outputs": [
    {
     "name": "stdout",
     "output_type": "stream",
     "text": [
      "Help on function cube in module __main__:\n",
      "\n",
      "cube(n)\n",
      "    To get cube of any number we have to give input then we get cube as a output.\n",
      "\n"
     ]
    }
   ],
   "source": [
    "help(cube)"
   ]
  },
  {
   "cell_type": "code",
   "execution_count": 10,
   "id": "d7c05de3",
   "metadata": {},
   "outputs": [
    {
     "data": {
      "text/plain": [
       "15625"
      ]
     },
     "execution_count": 10,
     "metadata": {},
     "output_type": "execute_result"
    }
   ],
   "source": [
    "cube(25)"
   ]
  },
  {
   "cell_type": "code",
   "execution_count": 11,
   "id": "61d133c9",
   "metadata": {},
   "outputs": [
    {
     "data": {
      "text/plain": [
       "1000"
      ]
     },
     "execution_count": 11,
     "metadata": {},
     "output_type": "execute_result"
    }
   ],
   "source": [
    "C = cube(10)\n",
    "C"
   ]
  },
  {
   "cell_type": "code",
   "execution_count": 12,
   "id": "4f06468f",
   "metadata": {},
   "outputs": [
    {
     "name": "stdout",
     "output_type": "stream",
     "text": [
      "Help on function cube in module __main__:\n",
      "\n",
      "cube(n)\n",
      "    To get cube of any number we have to give input then we get cube as a output.\n",
      "\n"
     ]
    }
   ],
   "source": [
    "help(cube)"
   ]
  },
  {
   "cell_type": "code",
   "execution_count": 13,
   "id": "e8a00cd3",
   "metadata": {},
   "outputs": [
    {
     "ename": "TypeError",
     "evalue": "add() takes 2 positional arguments but 3 were given",
     "output_type": "error",
     "traceback": [
      "\u001b[1;31m---------------------------------------------------------------------------\u001b[0m",
      "\u001b[1;31mTypeError\u001b[0m                                 Traceback (most recent call last)",
      "Cell \u001b[1;32mIn[13], line 1\u001b[0m\n\u001b[1;32m----> 1\u001b[0m \u001b[43madd\u001b[49m\u001b[43m(\u001b[49m\u001b[38;5;241;43m2\u001b[39;49m\u001b[43m,\u001b[49m\u001b[38;5;241;43m3\u001b[39;49m\u001b[43m,\u001b[49m\u001b[38;5;241;43m4\u001b[39;49m\u001b[43m)\u001b[49m\n",
      "\u001b[1;31mTypeError\u001b[0m: add() takes 2 positional arguments but 3 were given"
     ]
    }
   ],
   "source": [
    "add(2,3,4)"
   ]
  },
  {
   "cell_type": "markdown",
   "id": "9c2d940a",
   "metadata": {},
   "source": [
    "## Arguments and kwArguments"
   ]
  },
  {
   "cell_type": "code",
   "execution_count": 18,
   "id": "8c49c191",
   "metadata": {},
   "outputs": [],
   "source": [
    "def add_multiple(*args):\n",
    "    \"\"\"\n",
    "    Input : Multiple numbers \n",
    "    Output : Addition\n",
    "    \n",
    "    \"\"\"\n",
    "    s = 0\n",
    "    for i in args:\n",
    "        s= s+i\n",
    "    return s"
   ]
  },
  {
   "cell_type": "code",
   "execution_count": 19,
   "id": "72551af6",
   "metadata": {},
   "outputs": [
    {
     "data": {
      "text/plain": [
       "28"
      ]
     },
     "execution_count": 19,
     "metadata": {},
     "output_type": "execute_result"
    }
   ],
   "source": [
    "add_multiple(7,7,7,7)"
   ]
  },
  {
   "cell_type": "code",
   "execution_count": 20,
   "id": "f03b27ae",
   "metadata": {},
   "outputs": [],
   "source": [
    "def average(*args):\n",
    "    s=0\n",
    "    for i in args:\n",
    "        s=s+i\n",
    "        avg=s/len(args)\n",
    "    return avg"
   ]
  },
  {
   "cell_type": "code",
   "execution_count": 21,
   "id": "1d2df4a7",
   "metadata": {},
   "outputs": [
    {
     "data": {
      "text/plain": [
       "8.8"
      ]
     },
     "execution_count": 21,
     "metadata": {},
     "output_type": "execute_result"
    }
   ],
   "source": [
    "average(8,9,8,9,10)"
   ]
  },
  {
   "cell_type": "markdown",
   "id": "9f693522",
   "metadata": {},
   "source": [
    "## Kwargs : Dictionary"
   ]
  },
  {
   "cell_type": "code",
   "execution_count": 22,
   "id": "2ece6683",
   "metadata": {},
   "outputs": [],
   "source": [
    "def print_details(**kwargs):\n",
    "    for key,value in kwargs.items():\n",
    "        print(f'{key} : {value}')"
   ]
  },
  {
   "cell_type": "code",
   "execution_count": 23,
   "id": "77406255",
   "metadata": {},
   "outputs": [
    {
     "name": "stdout",
     "output_type": "stream",
     "text": [
      "Name : Hridaan\n",
      "Age : 1\n",
      "Salary : 20000\n"
     ]
    }
   ],
   "source": [
    "print_details(Name='Hridaan',Age='1',Salary='20000')"
   ]
  },
  {
   "cell_type": "markdown",
   "id": "6a61de7f",
   "metadata": {},
   "source": [
    "## List of cube of given numbers"
   ]
  },
  {
   "cell_type": "code",
   "execution_count": 26,
   "id": "f04a66e1",
   "metadata": {},
   "outputs": [],
   "source": [
    "def cube_list(Lst):\n",
    "    c=[]\n",
    "    for i in Lst:\n",
    "        c.append(i**3)\n",
    "    return c"
   ]
  },
  {
   "cell_type": "code",
   "execution_count": 28,
   "id": "d3ab302a",
   "metadata": {},
   "outputs": [
    {
     "data": {
      "text/plain": [
       "[1, 8, 27, 64, 125, 216, 343, 512, 729]"
      ]
     },
     "execution_count": 28,
     "metadata": {},
     "output_type": "execute_result"
    }
   ],
   "source": [
    "cube_list([1,2,3,4,5,6,7,8,9])"
   ]
  },
  {
   "cell_type": "code",
   "execution_count": 29,
   "id": "17de6e7b",
   "metadata": {},
   "outputs": [],
   "source": [
    "a=[10,11,12,13,14,15,16,17,18,19,20]\n",
    "cube1=cube_list(a)"
   ]
  },
  {
   "cell_type": "code",
   "execution_count": 30,
   "id": "27a9ffe4",
   "metadata": {},
   "outputs": [
    {
     "data": {
      "text/plain": [
       "[1000, 1331, 1728, 2197, 2744, 3375, 4096, 4913, 5832, 6859, 8000]"
      ]
     },
     "execution_count": 30,
     "metadata": {},
     "output_type": "execute_result"
    }
   ],
   "source": [
    "cube1"
   ]
  },
  {
   "cell_type": "code",
   "execution_count": 31,
   "id": "b8212788",
   "metadata": {},
   "outputs": [],
   "source": [
    "def cube_args(*nums):\n",
    "    c=[]\n",
    "    for i in nums:\n",
    "        c.append(i**3)\n",
    "        \n",
    "    return c"
   ]
  },
  {
   "cell_type": "code",
   "execution_count": 34,
   "id": "18099192",
   "metadata": {},
   "outputs": [
    {
     "data": {
      "text/plain": [
       "[1, 8, 27, 64]"
      ]
     },
     "execution_count": 34,
     "metadata": {},
     "output_type": "execute_result"
    }
   ],
   "source": [
    "cube_args(1,2,3,4)"
   ]
  },
  {
   "cell_type": "code",
   "execution_count": 35,
   "id": "0830b52e",
   "metadata": {},
   "outputs": [],
   "source": [
    "cu2 = cube_args(1,3,4,5,6,10,11.5)"
   ]
  },
  {
   "cell_type": "code",
   "execution_count": 36,
   "id": "24f53b38",
   "metadata": {},
   "outputs": [
    {
     "data": {
      "text/plain": [
       "[1, 27, 64, 125, 216, 1000, 1520.875]"
      ]
     },
     "execution_count": 36,
     "metadata": {},
     "output_type": "execute_result"
    }
   ],
   "source": [
    "cu2"
   ]
  },
  {
   "cell_type": "markdown",
   "id": "44381300",
   "metadata": {},
   "source": [
    "## Products of all elements in list or args"
   ]
  },
  {
   "cell_type": "code",
   "execution_count": 41,
   "id": "15919ac3",
   "metadata": {},
   "outputs": [],
   "source": [
    "def product(*args):\n",
    "    p=1\n",
    "    for i in args:\n",
    "        p=p*i\n",
    "    return p"
   ]
  },
  {
   "cell_type": "code",
   "execution_count": 42,
   "id": "66000abd",
   "metadata": {},
   "outputs": [
    {
     "data": {
      "text/plain": [
       "1120"
      ]
     },
     "execution_count": 42,
     "metadata": {},
     "output_type": "execute_result"
    }
   ],
   "source": [
    "product(4,5,7,8)"
   ]
  },
  {
   "cell_type": "code",
   "execution_count": 43,
   "id": "8776017d",
   "metadata": {},
   "outputs": [
    {
     "data": {
      "text/plain": [
       "100"
      ]
     },
     "execution_count": 43,
     "metadata": {},
     "output_type": "execute_result"
    }
   ],
   "source": [
    "product(10,10)"
   ]
  },
  {
   "cell_type": "markdown",
   "id": "9af4ba15",
   "metadata": {},
   "source": [
    "## Write a function in python to calculate hypotenuse of a right angled triangle."
   ]
  },
  {
   "cell_type": "markdown",
   "id": "b979d1ad",
   "metadata": {},
   "source": [
    "$C^2 = A^2 + B^2$"
   ]
  },
  {
   "cell_type": "code",
   "execution_count": 50,
   "id": "ab4d8284",
   "metadata": {},
   "outputs": [],
   "source": [
    "def hypotenuse(a,b):\n",
    "    \"\"\"\n",
    "    Input : 2 Perpendicular sides of right angled triangle\n",
    "    Output : Hypotenuse\n",
    "    \n",
    "    \"\"\"\n",
    "    c = (a**2+b**2)**(1/2)\n",
    "    return c"
   ]
  },
  {
   "cell_type": "code",
   "execution_count": 51,
   "id": "3b399ebc",
   "metadata": {},
   "outputs": [
    {
     "data": {
      "text/plain": [
       "6.4031242374328485"
      ]
     },
     "execution_count": 51,
     "metadata": {},
     "output_type": "execute_result"
    }
   ],
   "source": [
    "hypotenuse(4,5)"
   ]
  },
  {
   "cell_type": "code",
   "execution_count": 52,
   "id": "15b9a0f0",
   "metadata": {},
   "outputs": [],
   "source": [
    "side1 = [3,4,5,6]\n",
    "side2 = [4,5,6,7]"
   ]
  },
  {
   "cell_type": "code",
   "execution_count": 53,
   "id": "5b4b56f1",
   "metadata": {},
   "outputs": [
    {
     "name": "stdout",
     "output_type": "stream",
     "text": [
      "Given Sides are 3 and 4\n",
      "Hypotenuse of given sides is 5.0\n",
      "\n",
      "==============================================\n",
      "\n",
      "Given Sides are 4 and 5\n",
      "Hypotenuse of given sides is 6.4031242374328485\n",
      "\n",
      "==============================================\n",
      "\n",
      "Given Sides are 5 and 6\n",
      "Hypotenuse of given sides is 7.810249675906654\n",
      "\n",
      "==============================================\n",
      "\n",
      "Given Sides are 6 and 7\n",
      "Hypotenuse of given sides is 9.219544457292887\n",
      "\n",
      "==============================================\n",
      "\n"
     ]
    }
   ],
   "source": [
    "for i, j in zip(side1, side2):\n",
    "    print(f'Given Sides are {i} and {j}')\n",
    "    print(f'Hypotenuse of given sides is {hypotenuse(i,j)}')\n",
    "    print('\\n==============================================\\n')"
   ]
  },
  {
   "cell_type": "markdown",
   "id": "0076d335",
   "metadata": {},
   "source": [
    "## Write a function in python which takes 3 sides and determines whether 3 sides form triangle or not ."
   ]
  },
  {
   "cell_type": "markdown",
   "id": "e52c79d8",
   "metadata": {},
   "source": [
    "### sum of 2 sides is > then third side"
   ]
  },
  {
   "cell_type": "code",
   "execution_count": 56,
   "id": "b92d0e2b",
   "metadata": {},
   "outputs": [],
   "source": [
    "def isTriangle(a,b,c):\n",
    "    if (a+b)>c and (b+c)>a and (c+a)>b:\n",
    "        s= True\n",
    "    else:\n",
    "        s=False\n",
    "        \n",
    "    return s"
   ]
  },
  {
   "cell_type": "code",
   "execution_count": 57,
   "id": "b5bf8ea3",
   "metadata": {},
   "outputs": [
    {
     "data": {
      "text/plain": [
       "False"
      ]
     },
     "execution_count": 57,
     "metadata": {},
     "output_type": "execute_result"
    }
   ],
   "source": [
    "isTriangle(1,2,3)"
   ]
  },
  {
   "cell_type": "code",
   "execution_count": 58,
   "id": "66388090",
   "metadata": {},
   "outputs": [
    {
     "data": {
      "text/plain": [
       "True"
      ]
     },
     "execution_count": 58,
     "metadata": {},
     "output_type": "execute_result"
    }
   ],
   "source": [
    "isTriangle(4,5,6)"
   ]
  },
  {
   "cell_type": "code",
   "execution_count": null,
   "id": "3a8d9cf0",
   "metadata": {},
   "outputs": [],
   "source": []
  }
 ],
 "metadata": {
  "kernelspec": {
   "display_name": "Python 3 (ipykernel)",
   "language": "python",
   "name": "python3"
  },
  "language_info": {
   "codemirror_mode": {
    "name": "ipython",
    "version": 3
   },
   "file_extension": ".py",
   "mimetype": "text/x-python",
   "name": "python",
   "nbconvert_exporter": "python",
   "pygments_lexer": "ipython3",
   "version": "3.10.9"
  }
 },
 "nbformat": 4,
 "nbformat_minor": 5
}
