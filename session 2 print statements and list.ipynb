{
 "cells": [
  {
   "cell_type": "markdown",
   "id": "9b256489",
   "metadata": {},
   "source": [
    "### print statement and list"
   ]
  },
  {
   "cell_type": "markdown",
   "id": "12858dcb",
   "metadata": {},
   "source": [
    "## basic use of print statement"
   ]
  },
  {
   "cell_type": "code",
   "execution_count": 3,
   "id": "cbbf1995",
   "metadata": {},
   "outputs": [
    {
     "name": "stdout",
     "output_type": "stream",
     "text": [
      "hi, all welcome to data analytics class!\n"
     ]
    }
   ],
   "source": [
    "print(\"hi, all welcome to data analytics class!\")"
   ]
  },
  {
   "cell_type": "code",
   "execution_count": 4,
   "id": "2fe60ef9",
   "metadata": {},
   "outputs": [],
   "source": [
    "a=50"
   ]
  },
  {
   "cell_type": "code",
   "execution_count": 5,
   "id": "299c966e",
   "metadata": {},
   "outputs": [
    {
     "data": {
      "text/plain": [
       "50"
      ]
     },
     "execution_count": 5,
     "metadata": {},
     "output_type": "execute_result"
    }
   ],
   "source": [
    "a"
   ]
  },
  {
   "cell_type": "code",
   "execution_count": 6,
   "id": "875ca022",
   "metadata": {},
   "outputs": [
    {
     "name": "stdout",
     "output_type": "stream",
     "text": [
      "50\n"
     ]
    }
   ],
   "source": [
    "print(a)"
   ]
  },
  {
   "cell_type": "code",
   "execution_count": 7,
   "id": "9b4ee6a7",
   "metadata": {},
   "outputs": [
    {
     "data": {
      "text/plain": [
       "20"
      ]
     },
     "execution_count": 7,
     "metadata": {},
     "output_type": "execute_result"
    }
   ],
   "source": [
    "a=50\n",
    "b=20\n",
    "a\n",
    "b"
   ]
  },
  {
   "cell_type": "code",
   "execution_count": 8,
   "id": "fcdbd2d1",
   "metadata": {},
   "outputs": [
    {
     "name": "stdout",
     "output_type": "stream",
     "text": [
      "50\n",
      "20\n"
     ]
    }
   ],
   "source": [
    "print(a)\n",
    "print(b)"
   ]
  },
  {
   "cell_type": "markdown",
   "id": "818ec26c",
   "metadata": {},
   "source": [
    "## writing 2 print statements"
   ]
  },
  {
   "cell_type": "code",
   "execution_count": 10,
   "id": "f911fb3c",
   "metadata": {},
   "outputs": [
    {
     "name": "stdout",
     "output_type": "stream",
     "text": [
      "example1\n",
      "example2\n"
     ]
    }
   ],
   "source": [
    "print('example1')\n",
    "print('example2')"
   ]
  },
  {
   "cell_type": "code",
   "execution_count": 11,
   "id": "3b00e6bf",
   "metadata": {},
   "outputs": [
    {
     "name": "stdout",
     "output_type": "stream",
     "text": [
      "example1 \n",
      "example2\n"
     ]
    }
   ],
   "source": [
    "print('example1 \\nexample2')"
   ]
  },
  {
   "cell_type": "code",
   "execution_count": 12,
   "id": "161234e3",
   "metadata": {},
   "outputs": [
    {
     "name": "stdout",
     "output_type": "stream",
     "text": [
      "example1 \texample2\n"
     ]
    }
   ],
   "source": [
    "print('example1 \\texample2')"
   ]
  },
  {
   "cell_type": "markdown",
   "id": "1a67df26",
   "metadata": {},
   "source": [
    "# variable substitution in print statements"
   ]
  },
  {
   "cell_type": "markdown",
   "id": "24b1b6c5",
   "metadata": {},
   "source": [
    "### hi_your mobile number :_ is due for recharge.current balance is_INR."
   ]
  },
  {
   "cell_type": "code",
   "execution_count": 20,
   "id": "073ef56c",
   "metadata": {},
   "outputs": [
    {
     "name": "stdout",
     "output_type": "stream",
     "text": [
      "hi mahendra your mobile number 8605546080 is due for recharge\n",
      "current balance is 1.5 INR\n"
     ]
    }
   ],
   "source": [
    "#comma method\n",
    "name = 'mahendra'\n",
    "mob = 8605546080\n",
    "bal = 1.50\n",
    "print('hi',name,'your mobile number',mob,'is due for recharge\\ncurrent balance is',bal,'INR')"
   ]
  },
  {
   "cell_type": "code",
   "execution_count": 31,
   "id": "e7c57b9b",
   "metadata": {},
   "outputs": [
    {
     "name": "stdout",
     "output_type": "stream",
     "text": [
      "hi mahendra your mobile number 8605546080 is due for recharge. n\\current balance is 1.5 INR\n"
     ]
    }
   ],
   "source": [
    "#f string method\n",
    "name1 = 'mahendra'\n",
    "mob1 = 8605546080\n",
    "bal1 = 1.50\n",
    "print(f'hi {name1} your mobile number {mob1} is due for recharge. n\\current balance is {bal1} INR')\n"
   ]
  },
  {
   "cell_type": "code",
   "execution_count": 8,
   "id": "2bccbbaf",
   "metadata": {},
   "outputs": [
    {
     "name": "stdout",
     "output_type": "stream",
     "text": [
      "hi {} your mobile number {} is due for recharge.\n",
      "current balance is {}.format(name2,mob2,bal2) INR.\n"
     ]
    }
   ],
   "source": [
    "# .format method\n",
    "name2 = 'mahendra'\n",
    "mob2 = 8605546080\n",
    "bal2 = 2.0\n",
    "print('hi {} your mobile number {} is due for recharge.\\ncurrent balance is {}.format(name2,mob2,bal2) INR.')"
   ]
  },
  {
   "cell_type": "markdown",
   "id": "7be7f334",
   "metadata": {},
   "source": [
    "# Variable substitution in print statements"
   ]
  },
  {
   "cell_type": "code",
   "execution_count": 7,
   "id": "d92dc65d",
   "metadata": {},
   "outputs": [
    {
     "name": "stdout",
     "output_type": "stream",
     "text": [
      "Hi Hridaan Your Mobile Number is 8605546080 is Due for Recharge.\n",
      "Currently Balance is 1.98 INR\n"
     ]
    }
   ],
   "source": [
    "# comma Method \n",
    "Name = 'Hridaan'\n",
    "Mob = 8605546080\n",
    "Bal = 1.98\n",
    "print('Hi',Name,'Your Mobile Number is',Mob,'is Due for Recharge.\\nCurrently Balance is' ,Bal,'INR' )"
   ]
  },
  {
   "cell_type": "code",
   "execution_count": null,
   "id": "790f9c00",
   "metadata": {},
   "outputs": [],
   "source": []
  }
 ],
 "metadata": {
  "kernelspec": {
   "display_name": "Python 3 (ipykernel)",
   "language": "python",
   "name": "python3"
  },
  "language_info": {
   "codemirror_mode": {
    "name": "ipython",
    "version": 3
   },
   "file_extension": ".py",
   "mimetype": "text/x-python",
   "name": "python",
   "nbconvert_exporter": "python",
   "pygments_lexer": "ipython3",
   "version": "3.10.9"
  }
 },
 "nbformat": 4,
 "nbformat_minor": 5
}
