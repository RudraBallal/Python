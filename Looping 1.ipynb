{
 "cells": [
  {
   "cell_type": "code",
   "execution_count": 1,
   "id": "324772b3",
   "metadata": {},
   "outputs": [
    {
     "name": "stdout",
     "output_type": "stream",
     "text": [
      "Hello\n",
      "Hello\n"
     ]
    }
   ],
   "source": [
    "print('Hello')\n",
    "print('Hello')"
   ]
  },
  {
   "cell_type": "code",
   "execution_count": null,
   "id": "5601eeca",
   "metadata": {},
   "outputs": [],
   "source": [
    "print('Hello')\n",
    "print('Hello')"
   ]
  },
  {
   "cell_type": "markdown",
   "id": "ada93f8b",
   "metadata": {},
   "source": [
    "## Range Functions"
   ]
  },
  {
   "cell_type": "code",
   "execution_count": 2,
   "id": "b6857a9c",
   "metadata": {},
   "outputs": [
    {
     "data": {
      "text/plain": [
       "range(0, 6)"
      ]
     },
     "execution_count": 2,
     "metadata": {},
     "output_type": "execute_result"
    }
   ],
   "source": [
    "range(0,6)"
   ]
  },
  {
   "cell_type": "code",
   "execution_count": 3,
   "id": "2cb57254",
   "metadata": {},
   "outputs": [
    {
     "data": {
      "text/plain": [
       "[0, 1, 2, 3, 4, 5]"
      ]
     },
     "execution_count": 3,
     "metadata": {},
     "output_type": "execute_result"
    }
   ],
   "source": [
    "list(range(6))"
   ]
  },
  {
   "cell_type": "code",
   "execution_count": 4,
   "id": "38e2bca5",
   "metadata": {},
   "outputs": [
    {
     "data": {
      "text/plain": [
       "[0, 1, 2, 3, 4, 5, 6, 7, 8, 9, 10, 11, 12, 13, 14]"
      ]
     },
     "execution_count": 4,
     "metadata": {},
     "output_type": "execute_result"
    }
   ],
   "source": [
    "list(range(15))"
   ]
  },
  {
   "cell_type": "code",
   "execution_count": 6,
   "id": "22375315",
   "metadata": {},
   "outputs": [
    {
     "data": {
      "text/plain": [
       "[1, 2, 3, 4, 5, 6, 7, 8, 9, 10, 11, 12, 13, 14, 15, 16, 17, 18, 19]"
      ]
     },
     "execution_count": 6,
     "metadata": {},
     "output_type": "execute_result"
    }
   ],
   "source": [
    "list(range(1,20,1))"
   ]
  },
  {
   "cell_type": "code",
   "execution_count": 7,
   "id": "ca4fbe5a",
   "metadata": {},
   "outputs": [
    {
     "data": {
      "text/plain": [
       "[1, 3, 5, 7, 9, 11, 13, 15, 17, 19]"
      ]
     },
     "execution_count": 7,
     "metadata": {},
     "output_type": "execute_result"
    }
   ],
   "source": [
    "list(range(1,20,2))"
   ]
  },
  {
   "cell_type": "markdown",
   "id": "f5b86afa",
   "metadata": {},
   "source": [
    "## print Hello 20 Times"
   ]
  },
  {
   "cell_type": "code",
   "execution_count": 8,
   "id": "e01914f4",
   "metadata": {},
   "outputs": [
    {
     "name": "stdout",
     "output_type": "stream",
     "text": [
      "Hello\n",
      "Hello\n",
      "Hello\n",
      "Hello\n",
      "Hello\n",
      "Hello\n",
      "Hello\n",
      "Hello\n",
      "Hello\n",
      "Hello\n",
      "Hello\n",
      "Hello\n",
      "Hello\n",
      "Hello\n",
      "Hello\n",
      "Hello\n",
      "Hello\n",
      "Hello\n",
      "Hello\n",
      "Hello\n"
     ]
    }
   ],
   "source": [
    "for i in range (20):\n",
    "    print('Hello')\n"
   ]
  },
  {
   "cell_type": "code",
   "execution_count": 9,
   "id": "cdd4c145",
   "metadata": {},
   "outputs": [
    {
     "name": "stdout",
     "output_type": "stream",
     "text": [
      "0:Hello\n",
      "1:Hello\n",
      "2:Hello\n",
      "3:Hello\n",
      "4:Hello\n",
      "5:Hello\n",
      "6:Hello\n",
      "7:Hello\n",
      "8:Hello\n",
      "9:Hello\n",
      "10:Hello\n",
      "11:Hello\n",
      "12:Hello\n",
      "13:Hello\n",
      "14:Hello\n",
      "15:Hello\n",
      "16:Hello\n",
      "17:Hello\n",
      "18:Hello\n",
      "19:Hello\n"
     ]
    }
   ],
   "source": [
    "for i in range(20):\n",
    "    print(f'{i}:Hello')"
   ]
  },
  {
   "cell_type": "markdown",
   "id": "f73d136a",
   "metadata": {},
   "source": [
    "## Print All Elements In List"
   ]
  },
  {
   "cell_type": "code",
   "execution_count": 10,
   "id": "39249dd4",
   "metadata": {},
   "outputs": [
    {
     "data": {
      "text/plain": [
       "['Mahendra', 'Ravindra', 'Jitendra', 'Vijay']"
      ]
     },
     "execution_count": 10,
     "metadata": {},
     "output_type": "execute_result"
    }
   ],
   "source": [
    "a = ['Mahendra','Ravindra','Jitendra','Vijay']\n",
    "a"
   ]
  },
  {
   "cell_type": "code",
   "execution_count": 11,
   "id": "a8f7e214",
   "metadata": {},
   "outputs": [
    {
     "data": {
      "text/plain": [
       "list"
      ]
     },
     "execution_count": 11,
     "metadata": {},
     "output_type": "execute_result"
    }
   ],
   "source": [
    "type(a)"
   ]
  },
  {
   "cell_type": "code",
   "execution_count": 12,
   "id": "979a200a",
   "metadata": {},
   "outputs": [
    {
     "name": "stdout",
     "output_type": "stream",
     "text": [
      "Mahendra\n",
      "Ravindra\n",
      "Jitendra\n",
      "Vijay\n"
     ]
    }
   ],
   "source": [
    "for i in a:\n",
    "    print(i)"
   ]
  },
  {
   "cell_type": "code",
   "execution_count": 13,
   "id": "34fc1b79",
   "metadata": {},
   "outputs": [
    {
     "name": "stdout",
     "output_type": "stream",
     "text": [
      "element value :Mahendra , element type : <class 'str'>\n",
      "element value :Ravindra , element type : <class 'str'>\n",
      "element value :Jitendra , element type : <class 'str'>\n",
      "element value :Vijay , element type : <class 'str'>\n"
     ]
    }
   ],
   "source": [
    "for i in a:\n",
    "    print(f'element value :{i} , element type : {type(i)}')"
   ]
  },
  {
   "cell_type": "markdown",
   "id": "c46f0402",
   "metadata": {},
   "source": [
    "## Example with Multiple Variables in for Loop"
   ]
  },
  {
   "cell_type": "code",
   "execution_count": 16,
   "id": "0d116f3d",
   "metadata": {},
   "outputs": [],
   "source": [
    "emp = [(101,'Mahendra'),(102,'Ravindra'),(103,'Jitendra'),(104,'Vijay')]"
   ]
  },
  {
   "cell_type": "code",
   "execution_count": 17,
   "id": "0a397993",
   "metadata": {},
   "outputs": [
    {
     "data": {
      "text/plain": [
       "[(101, 'Mahendra'), (102, 'Ravindra'), (103, 'Jitendra'), (104, 'Vijay')]"
      ]
     },
     "execution_count": 17,
     "metadata": {},
     "output_type": "execute_result"
    }
   ],
   "source": [
    "emp"
   ]
  },
  {
   "cell_type": "code",
   "execution_count": 23,
   "id": "28c7329c",
   "metadata": {},
   "outputs": [
    {
     "name": "stdout",
     "output_type": "stream",
     "text": [
      "employee id: 101. employee name : Mahendra\n",
      "employee id: 102. employee name : Ravindra\n",
      "employee id: 103. employee name : Jitendra\n",
      "employee id: 104. employee name : Vijay\n"
     ]
    }
   ],
   "source": [
    "for i,j in emp:\n",
    "    print(f'employee id: {i}. employee name : {j}')"
   ]
  },
  {
   "cell_type": "code",
   "execution_count": 24,
   "id": "c5553a41",
   "metadata": {},
   "outputs": [
    {
     "name": "stdout",
     "output_type": "stream",
     "text": [
      "employee id: 101 . employee name : Mahendra\n",
      "employee id: 102 . employee name : Ravindra\n",
      "employee id: 103 . employee name : Jitendra\n",
      "employee id: 104 . employee name : Vijay\n"
     ]
    }
   ],
   "source": [
    "for ids,name in emp:\n",
    "    print(f'employee id: {ids} . employee name : {name}')"
   ]
  },
  {
   "cell_type": "markdown",
   "id": "83cfdb53",
   "metadata": {},
   "source": [
    "## Enumerate"
   ]
  },
  {
   "cell_type": "code",
   "execution_count": 27,
   "id": "fa15e438",
   "metadata": {},
   "outputs": [
    {
     "data": {
      "text/plain": [
       "['Mahi', 'Ravi', 'Jitu', 'Viju']"
      ]
     },
     "execution_count": 27,
     "metadata": {},
     "output_type": "execute_result"
    }
   ],
   "source": [
    "names = ['Mahi','Ravi','Jitu','Viju']\n",
    "names"
   ]
  },
  {
   "cell_type": "code",
   "execution_count": 28,
   "id": "481bc329",
   "metadata": {},
   "outputs": [
    {
     "data": {
      "text/plain": [
       "<enumerate at 0x15326b5c440>"
      ]
     },
     "execution_count": 28,
     "metadata": {},
     "output_type": "execute_result"
    }
   ],
   "source": [
    "enumerate(names)"
   ]
  },
  {
   "cell_type": "code",
   "execution_count": 29,
   "id": "25c18b9c",
   "metadata": {},
   "outputs": [
    {
     "data": {
      "text/plain": [
       "[(0, 'Mahi'), (1, 'Ravi'), (2, 'Jitu'), (3, 'Viju')]"
      ]
     },
     "execution_count": 29,
     "metadata": {},
     "output_type": "execute_result"
    }
   ],
   "source": [
    "list(enumerate(names))"
   ]
  },
  {
   "cell_type": "code",
   "execution_count": 31,
   "id": "86436aed",
   "metadata": {},
   "outputs": [
    {
     "name": "stdout",
     "output_type": "stream",
     "text": [
      "element index : 0 , element value : Mahi\n",
      "element index : 1 , element value : Ravi\n",
      "element index : 2 , element value : Jitu\n",
      "element index : 3 , element value : Viju\n"
     ]
    }
   ],
   "source": [
    "for index,value in enumerate(names):\n",
    "    print(f'element index : {index} , element value : {value}')"
   ]
  },
  {
   "cell_type": "code",
   "execution_count": 32,
   "id": "1a7f1e61",
   "metadata": {},
   "outputs": [
    {
     "data": {
      "text/plain": [
       "4"
      ]
     },
     "execution_count": 32,
     "metadata": {},
     "output_type": "execute_result"
    }
   ],
   "source": [
    "len(names)"
   ]
  },
  {
   "cell_type": "code",
   "execution_count": 35,
   "id": "af8c8983",
   "metadata": {},
   "outputs": [
    {
     "name": "stdout",
     "output_type": "stream",
     "text": [
      "element index : 0, element value : Mahi\n",
      "element index : 1, element value : Ravi\n",
      "element index : 2, element value : Jitu\n",
      "element index : 3, element value : Viju\n"
     ]
    }
   ],
   "source": [
    "for i in range(len(names)):\n",
    "    print(f'element index : {i}, element value : {names[i]}')"
   ]
  },
  {
   "cell_type": "markdown",
   "id": "f2479bfb",
   "metadata": {},
   "source": [
    "## zip function\n",
    "Combining 2 List"
   ]
  },
  {
   "cell_type": "code",
   "execution_count": 36,
   "id": "558da5fe",
   "metadata": {},
   "outputs": [],
   "source": [
    "a = ['mahi','ravi','jitu','viju']\n",
    "b = [1,2,3,4]"
   ]
  },
  {
   "cell_type": "code",
   "execution_count": 37,
   "id": "158d96c0",
   "metadata": {},
   "outputs": [
    {
     "data": {
      "text/plain": [
       "<zip at 0x15326b32c00>"
      ]
     },
     "execution_count": 37,
     "metadata": {},
     "output_type": "execute_result"
    }
   ],
   "source": [
    "zip(a,b)"
   ]
  },
  {
   "cell_type": "code",
   "execution_count": 38,
   "id": "e660d8ea",
   "metadata": {},
   "outputs": [
    {
     "data": {
      "text/plain": [
       "[('mahi', 1), ('ravi', 2), ('jitu', 3), ('viju', 4)]"
      ]
     },
     "execution_count": 38,
     "metadata": {},
     "output_type": "execute_result"
    }
   ],
   "source": [
    "list(zip(a,b))"
   ]
  },
  {
   "cell_type": "code",
   "execution_count": 39,
   "id": "a03d5683",
   "metadata": {},
   "outputs": [
    {
     "data": {
      "text/plain": [
       "[(1, 'mahi'), (2, 'ravi'), (3, 'jitu'), (4, 'viju')]"
      ]
     },
     "execution_count": 39,
     "metadata": {},
     "output_type": "execute_result"
    }
   ],
   "source": [
    "list(zip(b,a))"
   ]
  },
  {
   "cell_type": "code",
   "execution_count": 41,
   "id": "271d1b52",
   "metadata": {},
   "outputs": [
    {
     "name": "stdout",
     "output_type": "stream",
     "text": [
      "student name : mahi, student score : 1\n",
      "student name : ravi, student score : 2\n",
      "student name : jitu, student score : 3\n",
      "student name : viju, student score : 4\n"
     ]
    }
   ],
   "source": [
    "for name,score in zip(a,b):\n",
    "    print(f'student name : {name}, student score : {score}')"
   ]
  },
  {
   "cell_type": "markdown",
   "id": "b8a75772",
   "metadata": {},
   "source": [
    "## Zip Function Example\n",
    "\n",
    "$c^2 = a^2 + b^2$"
   ]
  },
  {
   "cell_type": "code",
   "execution_count": 43,
   "id": "3430e25c",
   "metadata": {},
   "outputs": [],
   "source": [
    "a = 4\n",
    "b = 5\n",
    "h = (a**2 + b**2)**(1/2)"
   ]
  },
  {
   "cell_type": "code",
   "execution_count": 44,
   "id": "b1bc60b5",
   "metadata": {},
   "outputs": [
    {
     "data": {
      "text/plain": [
       "6.4031242374328485"
      ]
     },
     "execution_count": 44,
     "metadata": {},
     "output_type": "execute_result"
    }
   ],
   "source": [
    "h"
   ]
  },
  {
   "cell_type": "code",
   "execution_count": 46,
   "id": "952bb49d",
   "metadata": {},
   "outputs": [
    {
     "data": {
      "text/plain": [
       "2.0"
      ]
     },
     "execution_count": 46,
     "metadata": {},
     "output_type": "execute_result"
    }
   ],
   "source": [
    "8**(1/3)"
   ]
  },
  {
   "cell_type": "code",
   "execution_count": 1,
   "id": "591813ba",
   "metadata": {},
   "outputs": [
    {
     "data": {
      "text/plain": [
       "[2, 4, 6, 8, 10]"
      ]
     },
     "execution_count": 1,
     "metadata": {},
     "output_type": "execute_result"
    }
   ],
   "source": [
    "A = [2,4,6,8,10]\n",
    "A"
   ]
  },
  {
   "cell_type": "markdown",
   "id": "52fdd1e8",
   "metadata": {},
   "source": [
    "# Assignment"
   ]
  },
  {
   "cell_type": "markdown",
   "id": "b8065936",
   "metadata": {},
   "source": [
    "### Print square from a list"
   ]
  },
  {
   "cell_type": "code",
   "execution_count": 4,
   "id": "ca017b92",
   "metadata": {},
   "outputs": [
    {
     "data": {
      "text/plain": [
       "[1, 2, 3, 4, 5]"
      ]
     },
     "execution_count": 4,
     "metadata": {},
     "output_type": "execute_result"
    }
   ],
   "source": [
    "a = [1, 2, 3, 4, 5]\n",
    "a"
   ]
  },
  {
   "cell_type": "code",
   "execution_count": 5,
   "id": "30ba7429",
   "metadata": {},
   "outputs": [
    {
     "name": "stdout",
     "output_type": "stream",
     "text": [
      "Number : 1 , square of Number : 1\n",
      "Number : 2 , square of Number : 4\n",
      "Number : 3 , square of Number : 9\n",
      "Number : 4 , square of Number : 16\n",
      "Number : 5 , square of Number : 25\n"
     ]
    }
   ],
   "source": [
    "for i in a:\n",
    "    print(f'Number : {i} , square of Number : {i**2}')"
   ]
  },
  {
   "cell_type": "markdown",
   "id": "55ffa5a7",
   "metadata": {},
   "source": [
    "### Print sum of given Elements from List"
   ]
  },
  {
   "cell_type": "code",
   "execution_count": 8,
   "id": "74840335",
   "metadata": {},
   "outputs": [
    {
     "data": {
      "text/plain": [
       "[1, 2, 3, 4, 5]"
      ]
     },
     "execution_count": 8,
     "metadata": {},
     "output_type": "execute_result"
    }
   ],
   "source": [
    "a = [1,2,3,4,5]\n",
    "a"
   ]
  },
  {
   "cell_type": "code",
   "execution_count": 11,
   "id": "b69a2e95",
   "metadata": {},
   "outputs": [
    {
     "name": "stdout",
     "output_type": "stream",
     "text": [
      "current i value : 1 , previous sum value : 0\n",
      "current i value : 1 , updated sum value : 1\n",
      "\n",
      "******************************************\n",
      "\n",
      "current i value : 2 , previous sum value : 1\n",
      "current i value : 2 , updated sum value : 3\n",
      "\n",
      "******************************************\n",
      "\n",
      "current i value : 3 , previous sum value : 3\n",
      "current i value : 3 , updated sum value : 6\n",
      "\n",
      "******************************************\n",
      "\n",
      "current i value : 4 , previous sum value : 6\n",
      "current i value : 4 , updated sum value : 10\n",
      "\n",
      "******************************************\n",
      "\n",
      "current i value : 5 , previous sum value : 10\n",
      "current i value : 5 , updated sum value : 15\n",
      "\n",
      "******************************************\n",
      "\n"
     ]
    }
   ],
   "source": [
    "# initialize sum with 0\n",
    "s = 0\n",
    "for i in a:\n",
    "    print(f'current i value : {i} , previous sum value : {s}')\n",
    "    s = s+i\n",
    "    print(f'current i value : {i} , updated sum value : {s}')\n",
    "    print(f'\\n******************************************\\n')\n"
   ]
  },
  {
   "cell_type": "code",
   "execution_count": 12,
   "id": "c8b504fa",
   "metadata": {},
   "outputs": [
    {
     "name": "stdout",
     "output_type": "stream",
     "text": [
      "15\n"
     ]
    }
   ],
   "source": [
    "print(s)"
   ]
  },
  {
   "cell_type": "code",
   "execution_count": 13,
   "id": "aecb0275",
   "metadata": {},
   "outputs": [
    {
     "data": {
      "text/plain": [
       "15"
      ]
     },
     "execution_count": 13,
     "metadata": {},
     "output_type": "execute_result"
    }
   ],
   "source": [
    "sum(a)"
   ]
  },
  {
   "cell_type": "markdown",
   "id": "604dd712",
   "metadata": {},
   "source": [
    "### Print sum of square of given elements in list"
   ]
  },
  {
   "cell_type": "code",
   "execution_count": 16,
   "id": "0c065aac",
   "metadata": {},
   "outputs": [
    {
     "data": {
      "text/plain": [
       "[1, 2, 3, 4, 5]"
      ]
     },
     "execution_count": 16,
     "metadata": {},
     "output_type": "execute_result"
    }
   ],
   "source": [
    "a"
   ]
  },
  {
   "cell_type": "code",
   "execution_count": 22,
   "id": "c73092fd",
   "metadata": {},
   "outputs": [
    {
     "name": "stdout",
     "output_type": "stream",
     "text": [
      "sum of square of element in list : [1, 2, 3, 4, 5] is 55\n"
     ]
    }
   ],
   "source": [
    "# initialize sum to 0\n",
    "s = 0\n",
    "for i in a:\n",
    "    s = s + i**2\n",
    "    # printing sum of squares\n",
    "print(f'sum of square of element in list : {a} is {s}')"
   ]
  },
  {
   "cell_type": "code",
   "execution_count": 18,
   "id": "a4ac0319",
   "metadata": {},
   "outputs": [
    {
     "data": {
      "text/plain": [
       "55"
      ]
     },
     "execution_count": 18,
     "metadata": {},
     "output_type": "execute_result"
    }
   ],
   "source": [
    "1**2+2**2+3**2+4**2+5**2"
   ]
  },
  {
   "cell_type": "markdown",
   "id": "893b12b5",
   "metadata": {},
   "source": [
    "### Product of all element in list"
   ]
  },
  {
   "cell_type": "code",
   "execution_count": 23,
   "id": "660fef6b",
   "metadata": {},
   "outputs": [
    {
     "name": "stdout",
     "output_type": "stream",
     "text": [
      "for given list [1, 2, 3, 4, 5] product is 120\n"
     ]
    }
   ],
   "source": [
    "# initialize product to 1\n",
    "p = 1\n",
    "for i in a:\n",
    "    p = p*i\n",
    "print(f'for given list {a} product is {p}')"
   ]
  },
  {
   "cell_type": "code",
   "execution_count": 24,
   "id": "7eb0fc82",
   "metadata": {},
   "outputs": [
    {
     "data": {
      "text/plain": [
       "120"
      ]
     },
     "execution_count": 24,
     "metadata": {},
     "output_type": "execute_result"
    }
   ],
   "source": [
    "1*2*3*4*5"
   ]
  },
  {
   "cell_type": "code",
   "execution_count": 25,
   "id": "0d41207e",
   "metadata": {},
   "outputs": [
    {
     "data": {
      "text/plain": [
       "[1, 2, 3, 4, 5]"
      ]
     },
     "execution_count": 25,
     "metadata": {},
     "output_type": "execute_result"
    }
   ],
   "source": [
    "a"
   ]
  },
  {
   "cell_type": "markdown",
   "id": "dc2894ff",
   "metadata": {},
   "source": [
    "### List comprehension"
   ]
  },
  {
   "cell_type": "code",
   "execution_count": null,
   "id": "9204c501",
   "metadata": {},
   "outputs": [],
   "source": []
  }
 ],
 "metadata": {
  "kernelspec": {
   "display_name": "Python 3 (ipykernel)",
   "language": "python",
   "name": "python3"
  },
  "language_info": {
   "codemirror_mode": {
    "name": "ipython",
    "version": 3
   },
   "file_extension": ".py",
   "mimetype": "text/x-python",
   "name": "python",
   "nbconvert_exporter": "python",
   "pygments_lexer": "ipython3",
   "version": "3.10.9"
  }
 },
 "nbformat": 4,
 "nbformat_minor": 5
}
