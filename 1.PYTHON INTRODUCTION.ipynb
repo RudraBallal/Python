{
 "cells": [
  {
   "cell_type": "markdown",
   "id": "dde32be7",
   "metadata": {},
   "source": [
    "# Introduction"
   ]
  },
  {
   "cell_type": "code",
   "execution_count": 1,
   "id": "76ead5b1",
   "metadata": {},
   "outputs": [
    {
     "name": "stdout",
     "output_type": "stream",
     "text": [
      "Hello Word\n"
     ]
    }
   ],
   "source": [
    "# to print the hello Word\n",
    "print('Hello Word')"
   ]
  },
  {
   "cell_type": "code",
   "execution_count": 5,
   "id": "261fb42a",
   "metadata": {},
   "outputs": [
    {
     "name": "stdout",
     "output_type": "stream",
     "text": [
      "The Sum : 50\n"
     ]
    }
   ],
   "source": [
    "# To add two Numbers\n",
    "a=10\n",
    "b=40\n",
    "print('The Sum :',a+b)"
   ]
  },
  {
   "cell_type": "markdown",
   "id": "8e0ceb49",
   "metadata": {},
   "source": [
    "## Use of Python\n",
    "\n",
    "1.For developing Desktop Application,Web App,Database Apps,AI Apps\n",
    "2.For Network Programming\n",
    "3.For Developing games\n",
    "4.For Data Analysis Applications\n",
    "5.For Machine Learning\n",
    "6.For IOT"
   ]
  },
  {
   "cell_type": "markdown",
   "id": "fddbee79",
   "metadata": {},
   "source": [
    "# Identifiers\n",
    "\n",
    "A Name in Python Program is called identifiers.\n",
    "class Name,Function Name,Module Name,Variable Name"
   ]
  },
  {
   "cell_type": "code",
   "execution_count": 6,
   "id": "8c385db4",
   "metadata": {},
   "outputs": [],
   "source": [
    "A = 50"
   ]
  },
  {
   "cell_type": "markdown",
   "id": "389e43b4",
   "metadata": {},
   "source": [
    "### Rules to Define Identifiers\n",
    "\n",
    "1.Alphabet symbols.\n",
    "2.if identifiers start with underscore(_) then it indicates private.\n",
    "3.identifiers should not start with digits.\n",
    "4.it is case sensitive.\n",
    "5.we cannot use reserved words as identifiers ex.def=10.\n",
    "6.there is no length limit.\n",
    "7.Dollar($)symbol is not allowed in python."
   ]
  },
  {
   "cell_type": "markdown",
   "id": "6e6e751d",
   "metadata": {},
   "source": [
    "## valid Python identifiers\n",
    "\n",
    "1.123total-no\n",
    "2.total123-yes\n",
    "3.python2share-yes\n",
    "4.ca$h-no\n",
    "5._abc_abc -yes\n",
    "6.def -no\n",
    "7.if-no\n",
    "\n",
    "## Note:\n",
    "1. if identifiers starts with _symbol then it is private.\n",
    "2. if identifiers starts with __(two underscore symbols) indicating that strongly private identifiers.\n",
    "3. if identifier starts and ends with two underscore symbols then the identifier is language defined special name,which is also known as  magic method. eg: __add__"
   ]
  },
  {
   "cell_type": "markdown",
   "id": "61644544",
   "metadata": {},
   "source": [
    "## Reserved Words\n",
    "There are 33 reserved words available in python.\n",
    "True,False,None.\n",
    "and,or,not,is,if,elif,else\n",
    "while for,break,continue,return,in,yield\n",
    "try,except,finally,raise assert\n",
    "import,from,as,class,def,pass,global,nonlocal,lambda,del,with\n",
    "\n",
    "### Note:\n",
    "1. all reserved words in python contain only alphabet symbols.\n",
    "2. except the following 3 reserved words,all contain only lower case alphabet symbols\n",
    "ex.True,False,None\n"
   ]
  },
  {
   "cell_type": "code",
   "execution_count": null,
   "id": "69e1aa6e",
   "metadata": {},
   "outputs": [],
   "source": []
  }
 ],
 "metadata": {
  "kernelspec": {
   "display_name": "Python 3 (ipykernel)",
   "language": "python",
   "name": "python3"
  },
  "language_info": {
   "codemirror_mode": {
    "name": "ipython",
    "version": 3
   },
   "file_extension": ".py",
   "mimetype": "text/x-python",
   "name": "python",
   "nbconvert_exporter": "python",
   "pygments_lexer": "ipython3",
   "version": "3.10.9"
  }
 },
 "nbformat": 4,
 "nbformat_minor": 5
}
