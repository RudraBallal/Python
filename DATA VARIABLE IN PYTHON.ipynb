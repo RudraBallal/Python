{
 "cells": [
  {
   "cell_type": "markdown",
   "id": "2b07b8b2",
   "metadata": {},
   "source": [
    "\n",
    "### PRINT STATEMENT AND LIST"
   ]
  },
  {
   "cell_type": "code",
   "execution_count": 2,
   "id": "c5c0534e",
   "metadata": {},
   "outputs": [
    {
     "name": "stdout",
     "output_type": "stream",
     "text": [
      "Hi,My Name is Mahendra\n"
     ]
    }
   ],
   "source": [
    "print('Hi,My Name is Mahendra')"
   ]
  },
  {
   "cell_type": "markdown",
   "id": "1e09617d",
   "metadata": {},
   "source": [
    "## SIMPLE INTEREST"
   ]
  },
  {
   "cell_type": "code",
   "execution_count": 8,
   "id": "dab4c924",
   "metadata": {},
   "outputs": [
    {
     "data": {
      "text/plain": [
       "7500.0"
      ]
     },
     "execution_count": 8,
     "metadata": {},
     "output_type": "execute_result"
    }
   ],
   "source": [
    "P = 15000\n",
    "N = 4\n",
    "R = 12.5\n",
    "I = (P*N*R)/100\n",
    "I"
   ]
  },
  {
   "cell_type": "code",
   "execution_count": 5,
   "id": "26d27b45",
   "metadata": {},
   "outputs": [
    {
     "data": {
      "text/plain": [
       "17812.5"
      ]
     },
     "execution_count": 5,
     "metadata": {},
     "output_type": "execute_result"
    }
   ],
   "source": [
    "P+I"
   ]
  },
  {
   "cell_type": "code",
   "execution_count": 9,
   "id": "e476de2c",
   "metadata": {},
   "outputs": [
    {
     "data": {
      "text/plain": [
       "45"
      ]
     },
     "execution_count": 9,
     "metadata": {},
     "output_type": "execute_result"
    }
   ],
   "source": [
    "A = 12\n",
    "B = 45\n",
    "A\n",
    "B"
   ]
  },
  {
   "cell_type": "code",
   "execution_count": 10,
   "id": "75c3cd80",
   "metadata": {},
   "outputs": [
    {
     "data": {
      "text/plain": [
       "12"
      ]
     },
     "execution_count": 10,
     "metadata": {},
     "output_type": "execute_result"
    }
   ],
   "source": [
    "A"
   ]
  },
  {
   "cell_type": "code",
   "execution_count": 11,
   "id": "48638704",
   "metadata": {},
   "outputs": [
    {
     "data": {
      "text/plain": [
       "45"
      ]
     },
     "execution_count": 11,
     "metadata": {},
     "output_type": "execute_result"
    }
   ],
   "source": [
    "B"
   ]
  },
  {
   "cell_type": "code",
   "execution_count": 13,
   "id": "d3df3c87",
   "metadata": {},
   "outputs": [
    {
     "name": "stdout",
     "output_type": "stream",
     "text": [
      "12\n"
     ]
    }
   ],
   "source": [
    "print(A)"
   ]
  },
  {
   "cell_type": "markdown",
   "id": "f902bc51",
   "metadata": {},
   "source": [
    "# writings two prints statements"
   ]
  },
  {
   "cell_type": "code",
   "execution_count": 14,
   "id": "541b0d01",
   "metadata": {},
   "outputs": [
    {
     "name": "stdout",
     "output_type": "stream",
     "text": [
      "example 1\n",
      "example 2\n"
     ]
    }
   ],
   "source": [
    "print('example 1')\n",
    "print('example 2')"
   ]
  },
  {
   "cell_type": "code",
   "execution_count": 18,
   "id": "1a3bf837",
   "metadata": {},
   "outputs": [
    {
     "name": "stdout",
     "output_type": "stream",
     "text": [
      "example 1\n",
      "example 2\n"
     ]
    }
   ],
   "source": [
    " a = 'example 1'\n",
    " b = 'example 2'\n",
    "print(f'{a}\\n{b}')"
   ]
  },
  {
   "cell_type": "code",
   "execution_count": 19,
   "id": "dbc34c5e",
   "metadata": {},
   "outputs": [
    {
     "name": "stdout",
     "output_type": "stream",
     "text": [
      "example 1 \n",
      " example 2\n"
     ]
    }
   ],
   "source": [
    "print(a,'\\n',b)"
   ]
  },
  {
   "cell_type": "code",
   "execution_count": 20,
   "id": "b24ae8b9",
   "metadata": {},
   "outputs": [
    {
     "name": "stdout",
     "output_type": "stream",
     "text": [
      "example 1 \texample 2\n"
     ]
    }
   ],
   "source": [
    "print('example 1 \\texample 2')"
   ]
  },
  {
   "cell_type": "markdown",
   "id": "d3df6ff1",
   "metadata": {},
   "source": [
    "## variable substitution in print statement"
   ]
  },
  {
   "cell_type": "markdown",
   "id": "2b64541c",
   "metadata": {},
   "source": [
    "# Hi_Your Mobile Number_is Due for Recharge.Current Balance is_INR."
   ]
  },
  {
   "cell_type": "markdown",
   "id": "9d7ca483",
   "metadata": {},
   "source": [
    "1. comma\n",
    "2. fstring\n",
    "3. .format()"
   ]
  },
  {
   "cell_type": "code",
   "execution_count": 24,
   "id": "ace7b03b",
   "metadata": {},
   "outputs": [
    {
     "name": "stdout",
     "output_type": "stream",
     "text": [
      "Hi Ajit Your Mobile Number 9022776496 is due for recharge.\n",
      "current balance is 399 INR.\n"
     ]
    }
   ],
   "source": [
    "# comma method\n",
    "name = 'Ajit'\n",
    "number = 9022776496\n",
    "bal = 399\n",
    "print('Hi',name,'Your Mobile Number',number,'is due for recharge.\\ncurrent balance is',bal,'INR.')"
   ]
  },
  {
   "cell_type": "code",
   "execution_count": 26,
   "id": "ba013249",
   "metadata": {},
   "outputs": [
    {
     "name": "stdout",
     "output_type": "stream",
     "text": [
      "Hi Kunjan Your Mobile Number 12345678 is Due for Recharge.\n",
      "Current Balance is 549 INR\n"
     ]
    }
   ],
   "source": [
    "#fstring method\n",
    "name2 = 'Kunjan'\n",
    "mob2 = 12345678\n",
    "bal2 = 549\n",
    "print(f'Hi {name2} Your Mobile Number {mob2} is Due for Recharge.\\nCurrent Balance is {bal2} INR')"
   ]
  },
  {
   "cell_type": "code",
   "execution_count": 29,
   "id": "03ea7f0a",
   "metadata": {},
   "outputs": [
    {
     "name": "stdout",
     "output_type": "stream",
     "text": [
      "Hi sujit Your Mobile Number 9960465916 is Due for Recharge.\n",
      "Current Balance is 649 INR\n"
     ]
    }
   ],
   "source": [
    "#.format method\n",
    "name3 = 'sujit'\n",
    "mob3 = 9960465916\n",
    "bal3 = 649\n",
    "print('Hi {} Your Mobile Number {} is Due for Recharge.\\nCurrent Balance is {} INR' .format(name3,mob3,bal3) )"
   ]
  },
  {
   "cell_type": "code",
   "execution_count": null,
   "id": "fb2999dd",
   "metadata": {},
   "outputs": [],
   "source": []
  }
 ],
 "metadata": {
  "kernelspec": {
   "display_name": "Python 3 (ipykernel)",
   "language": "python",
   "name": "python3"
  },
  "language_info": {
   "codemirror_mode": {
    "name": "ipython",
    "version": 3
   },
   "file_extension": ".py",
   "mimetype": "text/x-python",
   "name": "python",
   "nbconvert_exporter": "python",
   "pygments_lexer": "ipython3",
   "version": "3.10.9"
  }
 },
 "nbformat": 4,
 "nbformat_minor": 5
}
