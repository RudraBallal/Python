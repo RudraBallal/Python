{
 "cells": [
  {
   "cell_type": "markdown",
   "id": "c5491189",
   "metadata": {},
   "source": [
    "# session 4:  Basic of input in Python\n",
    "even : 2,4,6,8,......\n",
    "odd : 1,3,5,7,9......"
   ]
  },
  {
   "cell_type": "code",
   "execution_count": 2,
   "id": "57b10da3",
   "metadata": {},
   "outputs": [
    {
     "name": "stdout",
     "output_type": "stream",
     "text": [
      "Please enter any Positive Number:46\n",
      "The given number 46,It is an even Number\n"
     ]
    }
   ],
   "source": [
    "n = int(input('Please enter any Positive Number:'))\n",
    "if n%2==0:\n",
    "    print(f'The given number {n},It is an even Number')\n",
    "else:\n",
    "    print(f'The given number {n}, It is an Odd number')\n",
    "        "
   ]
  },
  {
   "cell_type": "markdown",
   "id": "e0f335ff",
   "metadata": {},
   "source": [
    "# Check whether a given number is divisible by 7 and 3 in detail"
   ]
  },
  {
   "cell_type": "code",
   "execution_count": 1,
   "id": "1463df04",
   "metadata": {},
   "outputs": [
    {
     "name": "stdout",
     "output_type": "stream",
     "text": [
      "Please Enter any Positive Number:385\n",
      "The given Number 385 is only Divisible By 7.\n"
     ]
    }
   ],
   "source": [
    "n = int(input('Please Enter any Positive Number:'))\n",
    "if n%7==0 and n%3==0:\n",
    "    print(f'the given Number {n} is divisible By both 7 and 3.')\n",
    "elif n%7==0:\n",
    "    print(f'The given Number {n} is only Divisible By 7.')\n",
    "elif n%3==0:\n",
    "    print(f'The given Number {n} is only Divisible By 3.')\n",
    "else:\n",
    "    print(f'The given Number {n} is NOT Divisible By Both 7 and 3.')\n",
    "    \n",
    "    "
   ]
  },
  {
   "cell_type": "markdown",
   "id": "71e60169",
   "metadata": {},
   "source": [
    "# Steps in calculating Income Tax\n",
    "1. Take annual income as a input of user\n",
    "2. standard deduction 50000 INR\n",
    "3. Taxable Income= Annual Income-Standard Deduction\n",
    "4. Check using if elif else different ranges\n",
    "5. cess 4% on tax amount\n"
   ]
  },
  {
   "cell_type": "code",
   "execution_count": 13,
   "id": "b1d375dd",
   "metadata": {},
   "outputs": [
    {
     "name": "stdout",
     "output_type": "stream",
     "text": [
      "Please Enter Your Annual Income750000\n",
      "for Annual Income of 750000.0 INR.The Total Income Tax is 26000.0 INR.\n"
     ]
    }
   ],
   "source": [
    "income = float(input(f'Please Enter Your Annual Income'))\n",
    "std_Ded = 50000\n",
    "ti = income-std_Ded\n",
    "\n",
    "if ti<=300000:\n",
    "    tax=0\n",
    "elif ti>300000 and ti<=600000:\n",
    "    tax=(5/100)*(ti-300000)     \n",
    "elif ti>600000 and ti<=900000:\n",
    "    tax=(15000)+(10/100)*(ti-600000)\n",
    "elif ti>900000 and ti<=1200000:\n",
    "    tax=(45000)+(15/100)*(ti-900000)\n",
    "elif ti>1200000 and ti<=1500000:\n",
    "    tax=(90000)+(20/100)*(ti-1200000)\n",
    "else:\n",
    "    tax=(150000)+(30/100)*(ti-1500000)\n",
    "    \n",
    "cess=(4/100)*tax\n",
    "total_tax=tax+cess\n",
    "print(f'for Annual Income of {income} INR.The Total Income Tax is {total_tax} INR.')\n",
    "        \n",
    "        \n"
   ]
  },
  {
   "cell_type": "code",
   "execution_count": 1,
   "id": "24dd9a63",
   "metadata": {},
   "outputs": [
    {
     "name": "stdout",
     "output_type": "stream",
     "text": [
      "Please enter your amount :10000\n",
      "\n",
      "**************************************************\n",
      "\n",
      "for given amount 10000.00 INR. The Discount is 3000.00 INR\n",
      "final billing amount is 7000.00 INR\n"
     ]
    }
   ],
   "source": [
    "import sys\n",
    "\n",
    "amt = float(input('Please enter your amount :'))\n",
    "\n",
    "if amt<0:\n",
    "    print(f'Please Enter Positive Number')\n",
    "    sys.exit()\n",
    "elif amt<1000:\n",
    "    disc=0\n",
    "elif amt>=1000 and amt<2000:\n",
    "    disc=(10/100)*(amt)\n",
    "elif amt>=2000 and amt<3000:\n",
    "    disc=(20/100)*(amt)\n",
    "else:\n",
    "    disc=(30/100)*(amt)\n",
    "final_amount = amt-disc\n",
    "print(f'\\n**************************************************\\n')\n",
    "print(f'for given amount {amt:.2f} INR. The Discount is {disc:.2f} INR')\n",
    "print(f'final billing amount is {final_amount:.2f} INR')\n",
    "    "
   ]
  },
  {
   "cell_type": "code",
   "execution_count": 4,
   "id": "e8177a02",
   "metadata": {},
   "outputs": [
    {
     "name": "stdout",
     "output_type": "stream",
     "text": [
      "Please enter any positive integer: 5\n",
      "Weird\n"
     ]
    }
   ],
   "source": [
    "n = int(input(\"Please enter any positive integer: \"))\n",
    "\n",
    "if n % 2 == 1:\n",
    "    print(\"Weird\")\n",
    "elif n % 2 == 0 and 2 <= n <= 5:\n",
    "    print(\"Not Weird\")\n",
    "elif n % 2 == 0 and 6 <= n <= 20:\n",
    "    print(\"Weird\")\n",
    "else:\n",
    "    print(\"Not Weird\")"
   ]
  },
  {
   "cell_type": "code",
   "execution_count": null,
   "id": "c783e9f2",
   "metadata": {},
   "outputs": [],
   "source": []
  }
 ],
 "metadata": {
  "kernelspec": {
   "display_name": "Python 3 (ipykernel)",
   "language": "python",
   "name": "python3"
  },
  "language_info": {
   "codemirror_mode": {
    "name": "ipython",
    "version": 3
   },
   "file_extension": ".py",
   "mimetype": "text/x-python",
   "name": "python",
   "nbconvert_exporter": "python",
   "pygments_lexer": "ipython3",
   "version": "3.10.9"
  }
 },
 "nbformat": 4,
 "nbformat_minor": 5
}
