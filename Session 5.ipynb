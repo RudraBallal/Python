{
 "cells": [
  {
   "cell_type": "markdown",
   "id": "697fde1a",
   "metadata": {},
   "source": [
    "# Looping in python"
   ]
  },
  {
   "cell_type": "code",
   "execution_count": 4,
   "id": "e06eb6e7",
   "metadata": {},
   "outputs": [
    {
     "name": "stdout",
     "output_type": "stream",
     "text": [
      "Hello\n",
      "Hello\n",
      "Hello\n",
      "Hello\n",
      "Hello\n",
      "Hello\n",
      "Hello\n",
      "Hello\n"
     ]
    }
   ],
   "source": [
    "print('Hello')\n",
    "print('Hello')\n",
    "print('Hello')\n",
    "print('Hello')\n",
    "print('Hello')\n",
    "print('Hello')\n",
    "print('Hello')\n",
    "print('Hello')"
   ]
  },
  {
   "cell_type": "code",
   "execution_count": 1,
   "id": "c74717e4",
   "metadata": {},
   "outputs": [
    {
     "name": "stdout",
     "output_type": "stream",
     "text": [
      "Hello\n",
      "Hello\n",
      "Hello\n",
      "Hello\n",
      "Hello\n",
      "Hello\n",
      "Hello\n",
      "Hello\n",
      "Hello\n",
      "Hello\n"
     ]
    }
   ],
   "source": [
    "for i in range(10):\n",
    "    print('Hello')"
   ]
  },
  {
   "cell_type": "markdown",
   "id": "4e6c8626",
   "metadata": {},
   "source": [
    "## Range Function"
   ]
  },
  {
   "cell_type": "code",
   "execution_count": 5,
   "id": "91bfc857",
   "metadata": {},
   "outputs": [
    {
     "data": {
      "text/plain": [
       "range(0, 7)"
      ]
     },
     "execution_count": 5,
     "metadata": {},
     "output_type": "execute_result"
    }
   ],
   "source": [
    "range(7)"
   ]
  },
  {
   "cell_type": "code",
   "execution_count": 6,
   "id": "c60e4532",
   "metadata": {},
   "outputs": [
    {
     "data": {
      "text/plain": [
       "[0, 1, 2, 3, 4, 5, 6]"
      ]
     },
     "execution_count": 6,
     "metadata": {},
     "output_type": "execute_result"
    }
   ],
   "source": [
    "list(range(7))"
   ]
  },
  {
   "cell_type": "code",
   "execution_count": 8,
   "id": "84f8d653",
   "metadata": {},
   "outputs": [
    {
     "data": {
      "text/plain": [
       "[1, 3, 5, 7, 9, 11, 13, 15, 17, 19]"
      ]
     },
     "execution_count": 8,
     "metadata": {},
     "output_type": "execute_result"
    }
   ],
   "source": [
    "list(range(1,21,2))"
   ]
  },
  {
   "cell_type": "markdown",
   "id": "49a718e1",
   "metadata": {},
   "source": [
    "## Print Hello 20 Times"
   ]
  },
  {
   "cell_type": "code",
   "execution_count": 9,
   "id": "06377954",
   "metadata": {},
   "outputs": [
    {
     "name": "stdout",
     "output_type": "stream",
     "text": [
      "Hi Hridaan\n",
      "Hi Hridaan\n",
      "Hi Hridaan\n",
      "Hi Hridaan\n",
      "Hi Hridaan\n",
      "Hi Hridaan\n",
      "Hi Hridaan\n",
      "Hi Hridaan\n",
      "Hi Hridaan\n",
      "Hi Hridaan\n"
     ]
    }
   ],
   "source": [
    "for i in range(10):\n",
    "    print(f'Hi Hridaan')"
   ]
  },
  {
   "cell_type": "code",
   "execution_count": 10,
   "id": "36922c57",
   "metadata": {},
   "outputs": [
    {
     "data": {
      "text/plain": [
       "[0, 1, 2, 3, 4, 5, 6, 7, 8, 9, 10, 11, 12, 13, 14, 15, 16, 17, 18, 19, 20]"
      ]
     },
     "execution_count": 10,
     "metadata": {},
     "output_type": "execute_result"
    }
   ],
   "source": [
    "list(range(21))"
   ]
  },
  {
   "cell_type": "code",
   "execution_count": 11,
   "id": "35760ca6",
   "metadata": {},
   "outputs": [
    {
     "name": "stdout",
     "output_type": "stream",
     "text": [
      "0: Hi Hridaan\n",
      "1: Hi Hridaan\n",
      "2: Hi Hridaan\n",
      "3: Hi Hridaan\n",
      "4: Hi Hridaan\n",
      "5: Hi Hridaan\n",
      "6: Hi Hridaan\n",
      "7: Hi Hridaan\n",
      "8: Hi Hridaan\n",
      "9: Hi Hridaan\n"
     ]
    }
   ],
   "source": [
    "for a in range(10):\n",
    "    print(f'{a}: Hi Hridaan')"
   ]
  },
  {
   "cell_type": "markdown",
   "id": "15f6aa82",
   "metadata": {},
   "source": [
    "## Print All Elements In List"
   ]
  },
  {
   "cell_type": "code",
   "execution_count": 12,
   "id": "e3800b59",
   "metadata": {},
   "outputs": [
    {
     "data": {
      "text/plain": [
       "['mahi', 'ravi', 'jitu', 'viju']"
      ]
     },
     "execution_count": 12,
     "metadata": {},
     "output_type": "execute_result"
    }
   ],
   "source": [
    "a = ['mahi','ravi','jitu','viju']\n",
    "a"
   ]
  },
  {
   "cell_type": "code",
   "execution_count": 17,
   "id": "b5c081e6",
   "metadata": {},
   "outputs": [
    {
     "name": "stdout",
     "output_type": "stream",
     "text": [
      "mahi\n",
      "ravi\n",
      "jitu\n",
      "viju\n"
     ]
    }
   ],
   "source": [
    "for name in a:\n",
    "    print(name)"
   ]
  },
  {
   "cell_type": "code",
   "execution_count": 22,
   "id": "f01879da",
   "metadata": {},
   "outputs": [
    {
     "name": "stdout",
     "output_type": "stream",
     "text": [
      "element value : mahi , element type : <class 'str'>\n",
      "element value : ravi , element type : <class 'str'>\n",
      "element value : jitu , element type : <class 'str'>\n",
      "element value : viju , element type : <class 'str'>\n"
     ]
    }
   ],
   "source": [
    "for i in a:\n",
    "    print(f'element value : {i} , element type : {type(i)}')"
   ]
  },
  {
   "cell_type": "markdown",
   "id": "d35b6218",
   "metadata": {},
   "source": [
    "## Example with Multiple variable in for loop"
   ]
  },
  {
   "cell_type": "code",
   "execution_count": 25,
   "id": "a6659d05",
   "metadata": {},
   "outputs": [
    {
     "data": {
      "text/plain": [
       "[(101, 'mahi'), (102, 'ravi'), (103, 'jitu'), (104, 'viju')]"
      ]
     },
     "execution_count": 25,
     "metadata": {},
     "output_type": "execute_result"
    }
   ],
   "source": [
    "Bros = [(101,'mahi'),(102,'ravi'),(103,'jitu'),(104,'viju')]\n",
    "Bros"
   ]
  },
  {
   "cell_type": "code",
   "execution_count": 27,
   "id": "3e15e8b2",
   "metadata": {},
   "outputs": [
    {
     "name": "stdout",
     "output_type": "stream",
     "text": [
      "Brothers id : 101. Brothers Name : mahi\n",
      "Brothers id : 102. Brothers Name : ravi\n",
      "Brothers id : 103. Brothers Name : jitu\n",
      "Brothers id : 104. Brothers Name : viju\n"
     ]
    }
   ],
   "source": [
    "for x,y in Bros:\n",
    "    print(f'Brothers id : {x}. Brothers Name : {y}')"
   ]
  },
  {
   "cell_type": "code",
   "execution_count": 31,
   "id": "e2314031",
   "metadata": {},
   "outputs": [
    {
     "data": {
      "text/plain": [
       "[0, 1, 2, 3, 4, 5, 6, 7, 8, 9, 10]"
      ]
     },
     "execution_count": 31,
     "metadata": {},
     "output_type": "execute_result"
    }
   ],
   "source": [
    "list(range(11))"
   ]
  },
  {
   "cell_type": "code",
   "execution_count": 33,
   "id": "b8bca81d",
   "metadata": {},
   "outputs": [
    {
     "name": "stdout",
     "output_type": "stream",
     "text": [
      "Numbers : 0. Squares : 0\n",
      "Numbers : 1. Squares : 1\n",
      "Numbers : 2. Squares : 4\n",
      "Numbers : 3. Squares : 9\n",
      "Numbers : 4. Squares : 16\n",
      "Numbers : 5. Squares : 25\n",
      "Numbers : 6. Squares : 36\n",
      "Numbers : 7. Squares : 49\n",
      "Numbers : 8. Squares : 64\n",
      "Numbers : 9. Squares : 81\n",
      "Numbers : 10. Squares : 100\n"
     ]
    }
   ],
   "source": [
    "for x in range(11):\n",
    "    print(f'Numbers : {x}. Squares : {x*x}')"
   ]
  },
  {
   "cell_type": "code",
   "execution_count": 41,
   "id": "3a0742ef",
   "metadata": {},
   "outputs": [
    {
     "name": "stdout",
     "output_type": "stream",
     "text": [
      "number : 0. square : 0\n",
      "number : 1. square : 1\n",
      "number : 2. square : 4\n",
      "number : 3. square : 9\n",
      "number : 4. square : 16\n",
      "number : 5. square : 25\n",
      "number : 6. square : 36\n",
      "number : 7. square : 49\n",
      "number : 8. square : 64\n",
      "number : 9. square : 81\n",
      "number : 10. square : 100\n"
     ]
    }
   ],
   "source": [
    "list(range(11))\n",
    "for x in range(11):\n",
    "    print(f'number : {x}. square : {x*x}')"
   ]
  },
  {
   "cell_type": "markdown",
   "id": "fde61442",
   "metadata": {},
   "source": [
    "## Enumerate\n"
   ]
  },
  {
   "cell_type": "code",
   "execution_count": 2,
   "id": "9ae3d2dc",
   "metadata": {},
   "outputs": [],
   "source": [
    "# Enumerate use for give Numbering to List"
   ]
  },
  {
   "cell_type": "code",
   "execution_count": 42,
   "id": "c74d16ae",
   "metadata": {},
   "outputs": [
    {
     "data": {
      "text/plain": [
       "['mahi', 'ravi', 'jitu', 'viju']"
      ]
     },
     "execution_count": 42,
     "metadata": {},
     "output_type": "execute_result"
    }
   ],
   "source": [
    "names = ['mahi','ravi','jitu','viju']\n",
    "names"
   ]
  },
  {
   "cell_type": "code",
   "execution_count": 43,
   "id": "eb433864",
   "metadata": {},
   "outputs": [
    {
     "data": {
      "text/plain": [
       "<enumerate at 0x216715d9d40>"
      ]
     },
     "execution_count": 43,
     "metadata": {},
     "output_type": "execute_result"
    }
   ],
   "source": [
    "enumerate(names)"
   ]
  },
  {
   "cell_type": "code",
   "execution_count": 46,
   "id": "2e9aed24",
   "metadata": {},
   "outputs": [
    {
     "data": {
      "text/plain": [
       "[(0, 'mahi'), (1, 'ravi'), (2, 'jitu'), (3, 'viju')]"
      ]
     },
     "execution_count": 46,
     "metadata": {},
     "output_type": "execute_result"
    }
   ],
   "source": [
    "list(enumerate(names))"
   ]
  },
  {
   "cell_type": "code",
   "execution_count": 47,
   "id": "d674d792",
   "metadata": {},
   "outputs": [
    {
     "name": "stdout",
     "output_type": "stream",
     "text": [
      "element index : 0. element value : mahi\n",
      "element index : 1. element value : ravi\n",
      "element index : 2. element value : jitu\n",
      "element index : 3. element value : viju\n"
     ]
    }
   ],
   "source": [
    "for index,value in enumerate(names):\n",
    "    print(f'element index : {index}. element value : {value}')"
   ]
  },
  {
   "cell_type": "code",
   "execution_count": 48,
   "id": "13013a6c",
   "metadata": {},
   "outputs": [
    {
     "data": {
      "text/plain": [
       "4"
      ]
     },
     "execution_count": 48,
     "metadata": {},
     "output_type": "execute_result"
    }
   ],
   "source": [
    "len(names)"
   ]
  },
  {
   "cell_type": "code",
   "execution_count": 55,
   "id": "237986b3",
   "metadata": {},
   "outputs": [
    {
     "data": {
      "text/plain": [
       "['mahi', 'ravi', 'jitu', 'viju', 'hridaan', 'hridaan', 'hridaan', 'hridaan']"
      ]
     },
     "execution_count": 55,
     "metadata": {},
     "output_type": "execute_result"
    }
   ],
   "source": [
    "names"
   ]
  },
  {
   "cell_type": "code",
   "execution_count": 57,
   "id": "1175f3d3",
   "metadata": {},
   "outputs": [
    {
     "data": {
      "text/plain": [
       "['mahi', 'ravi', 'jitu', 'viju', 'hridaan', 'hridaan', 'hridaan']"
      ]
     },
     "execution_count": 57,
     "metadata": {},
     "output_type": "execute_result"
    }
   ],
   "source": [
    "names.remove('hridaan')\n",
    "names"
   ]
  },
  {
   "cell_type": "code",
   "execution_count": 59,
   "id": "9296cc15",
   "metadata": {},
   "outputs": [
    {
     "data": {
      "text/plain": [
       "['mahi', 'ravi', 'jitu', 'viju', 'hridaan', 'hridaan']"
      ]
     },
     "execution_count": 59,
     "metadata": {},
     "output_type": "execute_result"
    }
   ],
   "source": [
    "names.pop(4)\n",
    "names"
   ]
  },
  {
   "cell_type": "code",
   "execution_count": 60,
   "id": "0c7d9598",
   "metadata": {},
   "outputs": [
    {
     "data": {
      "text/plain": [
       "['mahi', 'ravi', 'jitu', 'viju', 'hridaan']"
      ]
     },
     "execution_count": 60,
     "metadata": {},
     "output_type": "execute_result"
    }
   ],
   "source": [
    "names.pop(4)\n",
    "names"
   ]
  },
  {
   "cell_type": "code",
   "execution_count": 62,
   "id": "3f01b799",
   "metadata": {},
   "outputs": [
    {
     "data": {
      "text/plain": [
       "[(0, 'mahi'), (1, 'ravi'), (2, 'jitu'), (3, 'viju'), (4, 'hridaan')]"
      ]
     },
     "execution_count": 62,
     "metadata": {},
     "output_type": "execute_result"
    }
   ],
   "source": [
    "list(enumerate(names))"
   ]
  },
  {
   "cell_type": "markdown",
   "id": "afd10096",
   "metadata": {},
   "source": [
    "## Zip Functions\n",
    "\n",
    "Combining two List"
   ]
  },
  {
   "cell_type": "code",
   "execution_count": 1,
   "id": "893ac227",
   "metadata": {},
   "outputs": [],
   "source": [
    "a = ['chiku', 'miku', 'tiku', 'piku']\n",
    "b = [1,2,3,4]"
   ]
  },
  {
   "cell_type": "code",
   "execution_count": 2,
   "id": "2afd38c8",
   "metadata": {},
   "outputs": [
    {
     "data": {
      "text/plain": [
       "['chiku', 'miku', 'tiku', 'piku']"
      ]
     },
     "execution_count": 2,
     "metadata": {},
     "output_type": "execute_result"
    }
   ],
   "source": [
    "a\n"
   ]
  },
  {
   "cell_type": "code",
   "execution_count": 3,
   "id": "0fbc7644",
   "metadata": {},
   "outputs": [
    {
     "data": {
      "text/plain": [
       "[1, 2, 3, 4]"
      ]
     },
     "execution_count": 3,
     "metadata": {},
     "output_type": "execute_result"
    }
   ],
   "source": [
    "b"
   ]
  },
  {
   "cell_type": "code",
   "execution_count": 4,
   "id": "5fc94be5",
   "metadata": {},
   "outputs": [
    {
     "data": {
      "text/plain": [
       "<zip at 0x179f9e85ac0>"
      ]
     },
     "execution_count": 4,
     "metadata": {},
     "output_type": "execute_result"
    }
   ],
   "source": [
    "zip(a,b)"
   ]
  },
  {
   "cell_type": "code",
   "execution_count": 5,
   "id": "09573d1e",
   "metadata": {},
   "outputs": [
    {
     "data": {
      "text/plain": [
       "[('chiku', 1), ('miku', 2), ('tiku', 3), ('piku', 4)]"
      ]
     },
     "execution_count": 5,
     "metadata": {},
     "output_type": "execute_result"
    }
   ],
   "source": [
    "list(zip(a,b))"
   ]
  },
  {
   "cell_type": "code",
   "execution_count": 6,
   "id": "1faf655e",
   "metadata": {},
   "outputs": [
    {
     "data": {
      "text/plain": [
       "[(1, 'chiku'), (2, 'miku'), (3, 'tiku'), (4, 'piku')]"
      ]
     },
     "execution_count": 6,
     "metadata": {},
     "output_type": "execute_result"
    }
   ],
   "source": [
    "list(zip(b,a))"
   ]
  },
  {
   "cell_type": "code",
   "execution_count": 7,
   "id": "0097ec01",
   "metadata": {},
   "outputs": [
    {
     "name": "stdout",
     "output_type": "stream",
     "text": [
      "name : chiku. score : 1\n",
      "name : miku. score : 2\n",
      "name : tiku. score : 3\n",
      "name : piku. score : 4\n"
     ]
    }
   ],
   "source": [
    "for name,score in zip(a,b):\n",
    "    print(f'name : {name}. score : {score}')"
   ]
  },
  {
   "cell_type": "markdown",
   "id": "693a2baf",
   "metadata": {},
   "source": [
    "## Zip Function Example\n",
    "\n",
    "$C^2 = A^2 + B^2$"
   ]
  },
  {
   "cell_type": "code",
   "execution_count": 18,
   "id": "0ae704a9",
   "metadata": {},
   "outputs": [
    {
     "data": {
      "text/plain": [
       "5.0"
      ]
     },
     "execution_count": 18,
     "metadata": {},
     "output_type": "execute_result"
    }
   ],
   "source": [
    "a = 3\n",
    "b = 4\n",
    "h = (a**2+b**2)**(1/2)\n",
    "h"
   ]
  },
  {
   "cell_type": "code",
   "execution_count": 20,
   "id": "1bae4d64",
   "metadata": {},
   "outputs": [
    {
     "data": {
      "text/plain": [
       "5.0"
      ]
     },
     "execution_count": 20,
     "metadata": {},
     "output_type": "execute_result"
    }
   ],
   "source": [
    "25**(1/2)"
   ]
  },
  {
   "cell_type": "code",
   "execution_count": 24,
   "id": "02eb9539",
   "metadata": {},
   "outputs": [],
   "source": [
    "a = [5,6,7,8]\n",
    "b = [6,7,8,9]\n",
    "hyp = []\n",
    "for i,j in zip(a,b):\n",
    "    h = (i**2 + j**2)**(1/2)\n",
    "    hyp.append(h)"
   ]
  },
  {
   "cell_type": "code",
   "execution_count": 27,
   "id": "b7168570",
   "metadata": {},
   "outputs": [
    {
     "data": {
      "text/plain": [
       "[7.810249675906654, 9.219544457292887, 10.63014581273465, 12.041594578792296]"
      ]
     },
     "execution_count": 27,
     "metadata": {},
     "output_type": "execute_result"
    }
   ],
   "source": [
    "hyp"
   ]
  },
  {
   "cell_type": "code",
   "execution_count": 28,
   "id": "5fd66159",
   "metadata": {},
   "outputs": [
    {
     "data": {
      "text/plain": [
       "[(1, 5), (2, 6), (3, 7), (4, 8)]"
      ]
     },
     "execution_count": 28,
     "metadata": {},
     "output_type": "execute_result"
    }
   ],
   "source": [
    "list(enumerate(a,1))"
   ]
  },
  {
   "cell_type": "code",
   "execution_count": 29,
   "id": "448fc0f5",
   "metadata": {},
   "outputs": [
    {
     "data": {
      "text/plain": [
       "[6, 7, 8, 9]"
      ]
     },
     "execution_count": 29,
     "metadata": {},
     "output_type": "execute_result"
    }
   ],
   "source": [
    "b\n"
   ]
  },
  {
   "cell_type": "code",
   "execution_count": 30,
   "id": "6366327c",
   "metadata": {},
   "outputs": [
    {
     "name": "stdout",
     "output_type": "stream",
     "text": [
      "Number : 6. Square of number : 36\n",
      "Number : 7. Square of number : 49\n",
      "Number : 8. Square of number : 64\n",
      "Number : 9. Square of number : 81\n"
     ]
    }
   ],
   "source": [
    "for No in b:\n",
    "    print(f'Number : {No}. Square of number : {No**2}')"
   ]
  },
  {
   "cell_type": "code",
   "execution_count": 1,
   "id": "37bb06a3",
   "metadata": {},
   "outputs": [
    {
     "data": {
      "text/plain": [
       "[1, 2, 3, 4, 5]"
      ]
     },
     "execution_count": 1,
     "metadata": {},
     "output_type": "execute_result"
    }
   ],
   "source": [
    "a = [1,2,3,4,5]\n",
    "a"
   ]
  },
  {
   "cell_type": "code",
   "execution_count": 2,
   "id": "60794571",
   "metadata": {},
   "outputs": [
    {
     "data": {
      "text/plain": [
       "[1, 2, 3, 4, 5, 6, 7, 8, 9, 10]"
      ]
     },
     "execution_count": 2,
     "metadata": {},
     "output_type": "execute_result"
    }
   ],
   "source": [
    "list(range(1,11))"
   ]
  },
  {
   "cell_type": "markdown",
   "id": "d7b725f3",
   "metadata": {},
   "source": [
    "\n",
    "## List Comprehension"
   ]
  },
  {
   "cell_type": "code",
   "execution_count": 3,
   "id": "e82989d4",
   "metadata": {},
   "outputs": [
    {
     "name": "stdout",
     "output_type": "stream",
     "text": [
      "[1, 4, 9, 16, 25, 36, 49, 64, 81, 100, 121, 144, 169, 196, 225, 256, 289, 324, 361, 400, 441, 484, 529, 576, 625, 676, 729, 784, 841, 900, 961, 1024, 1089, 1156, 1225, 1296, 1369, 1444, 1521, 1600, 1681, 1764, 1849, 1936, 2025, 2116, 2209, 2304, 2401, 2500, 2601, 2704, 2809, 2916, 3025, 3136, 3249, 3364, 3481, 3600, 3721, 3844, 3969, 4096, 4225, 4356, 4489, 4624, 4761, 4900, 5041, 5184, 5329, 5476, 5625, 5776, 5929, 6084, 6241, 6400, 6561, 6724, 6889, 7056, 7225, 7396, 7569, 7744, 7921, 8100, 8281, 8464, 8649, 8836, 9025, 9216, 9409, 9604, 9801, 10000]\n"
     ]
    }
   ],
   "source": [
    "# find out square of first n numbers in a list\n",
    "\n",
    "n = 100\n",
    "d = [i**2 for i in range(1,n+1)]\n",
    "print(d)"
   ]
  },
  {
   "cell_type": "code",
   "execution_count": 6,
   "id": "2ded77a3",
   "metadata": {},
   "outputs": [
    {
     "name": "stdout",
     "output_type": "stream",
     "text": [
      "The person Tony whose age is 51 was a genious.\n"
     ]
    }
   ],
   "source": [
    "name = 'Tony'\n",
    "age = 51\n",
    "print(f'The person {name} whose age is {age} was a genious.')"
   ]
  },
  {
   "cell_type": "code",
   "execution_count": 12,
   "id": "a230f7dc",
   "metadata": {},
   "outputs": [
    {
     "name": "stdout",
     "output_type": "stream",
     "text": [
      "what is your name? : mahi\n",
      "Hello mahi\n"
     ]
    }
   ],
   "source": [
    "name = input('what is your name? : ')\n",
    "print('Hello ' + name)"
   ]
  },
  {
   "cell_type": "code",
   "execution_count": 2,
   "id": "9e0ccbfb",
   "metadata": {},
   "outputs": [
    {
     "name": "stdout",
     "output_type": "stream",
     "text": [
      "Enter your old age :15\n",
      "20\n"
     ]
    }
   ],
   "source": [
    "old_age = int(input('Enter your old age :'))\n",
    "new_age = (old_age + 5)\n",
    "print(new_age)\n"
   ]
  },
  {
   "cell_type": "code",
   "execution_count": 37,
   "id": "fe466c5e",
   "metadata": {},
   "outputs": [
    {
     "name": "stdout",
     "output_type": "stream",
     "text": [
      "Enter your first number :5\n",
      "Enter your second number :5\n",
      "The sum is :10\n"
     ]
    }
   ],
   "source": [
    "first = int(input('Enter your first number :'))\n",
    "second = int(input('Enter your second number :'))\n",
    "sum = first + second\n",
    "print('The sum is :' + str(sum))"
   ]
  },
  {
   "cell_type": "code",
   "execution_count": 13,
   "id": "a7ae46b4",
   "metadata": {},
   "outputs": [
    {
     "name": "stdout",
     "output_type": "stream",
     "text": [
      "Enter your first number :10\n",
      "Enter your second number :10\n",
      "The sum is : 20\n"
     ]
    }
   ],
   "source": [
    "first = int(input('Enter your first number :'))\n",
    "second = int(input('Enter your second number :'))\n",
    "sum = first + second\n",
    "print(f'The sum is : {sum}')"
   ]
  },
  {
   "cell_type": "code",
   "execution_count": 44,
   "id": "3bffe243",
   "metadata": {},
   "outputs": [
    {
     "name": "stdout",
     "output_type": "stream",
     "text": [
      "Enter your first number :5\n",
      "Enter your second number :5\n",
      "The sum is :10\n"
     ]
    }
   ],
   "source": [
    "first = int(input('Enter your first number :'))\n",
    "second = int(input('Enter your second number :'))\n",
    "sum = first + second\n",
    "print('The sum is :' + str(sum))"
   ]
  },
  {
   "cell_type": "code",
   "execution_count": 14,
   "id": "9722a583",
   "metadata": {},
   "outputs": [],
   "source": [
    "import pandas as pd"
   ]
  },
  {
   "cell_type": "code",
   "execution_count": 17,
   "id": "8e0b6d76",
   "metadata": {},
   "outputs": [],
   "source": [
    "pd.set_option('display.max_columns',4)\n",
    "pd.set_option('display.max_rows',100)"
   ]
  },
  {
   "cell_type": "code",
   "execution_count": 18,
   "id": "86c2ef40",
   "metadata": {},
   "outputs": [
    {
     "name": "stdout",
     "output_type": "stream",
     "text": [
      "Number : 0. Square : 0\n",
      "\n",
      "*************************\n",
      "\n",
      "Number : 1. Square : 1\n",
      "\n",
      "*************************\n",
      "\n",
      "Number : 2. Square : 4\n",
      "\n",
      "*************************\n",
      "\n",
      "Number : 3. Square : 9\n",
      "\n",
      "*************************\n",
      "\n",
      "Number : 4. Square : 16\n",
      "\n",
      "*************************\n",
      "\n",
      "Number : 5. Square : 25\n",
      "\n",
      "*************************\n",
      "\n",
      "Number : 6. Square : 36\n",
      "\n",
      "*************************\n",
      "\n",
      "Number : 7. Square : 49\n",
      "\n",
      "*************************\n",
      "\n",
      "Number : 8. Square : 64\n",
      "\n",
      "*************************\n",
      "\n",
      "Number : 9. Square : 81\n",
      "\n",
      "*************************\n",
      "\n",
      "Number : 10. Square : 100\n",
      "\n",
      "*************************\n",
      "\n",
      "Number : 11. Square : 121\n",
      "\n",
      "*************************\n",
      "\n",
      "Number : 12. Square : 144\n",
      "\n",
      "*************************\n",
      "\n",
      "Number : 13. Square : 169\n",
      "\n",
      "*************************\n",
      "\n",
      "Number : 14. Square : 196\n",
      "\n",
      "*************************\n",
      "\n",
      "Number : 15. Square : 225\n",
      "\n",
      "*************************\n",
      "\n",
      "Number : 16. Square : 256\n",
      "\n",
      "*************************\n",
      "\n",
      "Number : 17. Square : 289\n",
      "\n",
      "*************************\n",
      "\n",
      "Number : 18. Square : 324\n",
      "\n",
      "*************************\n",
      "\n",
      "Number : 19. Square : 361\n",
      "\n",
      "*************************\n",
      "\n",
      "Number : 20. Square : 400\n",
      "\n",
      "*************************\n",
      "\n",
      "Number : 21. Square : 441\n",
      "\n",
      "*************************\n",
      "\n",
      "Number : 22. Square : 484\n",
      "\n",
      "*************************\n",
      "\n",
      "Number : 23. Square : 529\n",
      "\n",
      "*************************\n",
      "\n",
      "Number : 24. Square : 576\n",
      "\n",
      "*************************\n",
      "\n",
      "Number : 25. Square : 625\n",
      "\n",
      "*************************\n",
      "\n",
      "Number : 26. Square : 676\n",
      "\n",
      "*************************\n",
      "\n",
      "Number : 27. Square : 729\n",
      "\n",
      "*************************\n",
      "\n",
      "Number : 28. Square : 784\n",
      "\n",
      "*************************\n",
      "\n",
      "Number : 29. Square : 841\n",
      "\n",
      "*************************\n",
      "\n",
      "Number : 30. Square : 900\n",
      "\n",
      "*************************\n",
      "\n",
      "Number : 31. Square : 961\n",
      "\n",
      "*************************\n",
      "\n",
      "Number : 32. Square : 1024\n",
      "\n",
      "*************************\n",
      "\n",
      "Number : 33. Square : 1089\n",
      "\n",
      "*************************\n",
      "\n",
      "Number : 34. Square : 1156\n",
      "\n",
      "*************************\n",
      "\n",
      "Number : 35. Square : 1225\n",
      "\n",
      "*************************\n",
      "\n",
      "Number : 36. Square : 1296\n",
      "\n",
      "*************************\n",
      "\n",
      "Number : 37. Square : 1369\n",
      "\n",
      "*************************\n",
      "\n",
      "Number : 38. Square : 1444\n",
      "\n",
      "*************************\n",
      "\n",
      "Number : 39. Square : 1521\n",
      "\n",
      "*************************\n",
      "\n",
      "Number : 40. Square : 1600\n",
      "\n",
      "*************************\n",
      "\n",
      "Number : 41. Square : 1681\n",
      "\n",
      "*************************\n",
      "\n",
      "Number : 42. Square : 1764\n",
      "\n",
      "*************************\n",
      "\n",
      "Number : 43. Square : 1849\n",
      "\n",
      "*************************\n",
      "\n",
      "Number : 44. Square : 1936\n",
      "\n",
      "*************************\n",
      "\n",
      "Number : 45. Square : 2025\n",
      "\n",
      "*************************\n",
      "\n",
      "Number : 46. Square : 2116\n",
      "\n",
      "*************************\n",
      "\n",
      "Number : 47. Square : 2209\n",
      "\n",
      "*************************\n",
      "\n",
      "Number : 48. Square : 2304\n",
      "\n",
      "*************************\n",
      "\n",
      "Number : 49. Square : 2401\n",
      "\n",
      "*************************\n",
      "\n",
      "Number : 50. Square : 2500\n",
      "\n",
      "*************************\n",
      "\n",
      "Number : 51. Square : 2601\n",
      "\n",
      "*************************\n",
      "\n",
      "Number : 52. Square : 2704\n",
      "\n",
      "*************************\n",
      "\n",
      "Number : 53. Square : 2809\n",
      "\n",
      "*************************\n",
      "\n",
      "Number : 54. Square : 2916\n",
      "\n",
      "*************************\n",
      "\n",
      "Number : 55. Square : 3025\n",
      "\n",
      "*************************\n",
      "\n",
      "Number : 56. Square : 3136\n",
      "\n",
      "*************************\n",
      "\n",
      "Number : 57. Square : 3249\n",
      "\n",
      "*************************\n",
      "\n",
      "Number : 58. Square : 3364\n",
      "\n",
      "*************************\n",
      "\n",
      "Number : 59. Square : 3481\n",
      "\n",
      "*************************\n",
      "\n",
      "Number : 60. Square : 3600\n",
      "\n",
      "*************************\n",
      "\n",
      "Number : 61. Square : 3721\n",
      "\n",
      "*************************\n",
      "\n",
      "Number : 62. Square : 3844\n",
      "\n",
      "*************************\n",
      "\n",
      "Number : 63. Square : 3969\n",
      "\n",
      "*************************\n",
      "\n",
      "Number : 64. Square : 4096\n",
      "\n",
      "*************************\n",
      "\n",
      "Number : 65. Square : 4225\n",
      "\n",
      "*************************\n",
      "\n",
      "Number : 66. Square : 4356\n",
      "\n",
      "*************************\n",
      "\n",
      "Number : 67. Square : 4489\n",
      "\n",
      "*************************\n",
      "\n",
      "Number : 68. Square : 4624\n",
      "\n",
      "*************************\n",
      "\n",
      "Number : 69. Square : 4761\n",
      "\n",
      "*************************\n",
      "\n",
      "Number : 70. Square : 4900\n",
      "\n",
      "*************************\n",
      "\n",
      "Number : 71. Square : 5041\n",
      "\n",
      "*************************\n",
      "\n",
      "Number : 72. Square : 5184\n",
      "\n",
      "*************************\n",
      "\n",
      "Number : 73. Square : 5329\n",
      "\n",
      "*************************\n",
      "\n",
      "Number : 74. Square : 5476\n",
      "\n",
      "*************************\n",
      "\n",
      "Number : 75. Square : 5625\n",
      "\n",
      "*************************\n",
      "\n",
      "Number : 76. Square : 5776\n",
      "\n",
      "*************************\n",
      "\n",
      "Number : 77. Square : 5929\n",
      "\n",
      "*************************\n",
      "\n",
      "Number : 78. Square : 6084\n",
      "\n",
      "*************************\n",
      "\n",
      "Number : 79. Square : 6241\n",
      "\n",
      "*************************\n",
      "\n",
      "Number : 80. Square : 6400\n",
      "\n",
      "*************************\n",
      "\n",
      "Number : 81. Square : 6561\n",
      "\n",
      "*************************\n",
      "\n",
      "Number : 82. Square : 6724\n",
      "\n",
      "*************************\n",
      "\n",
      "Number : 83. Square : 6889\n",
      "\n",
      "*************************\n",
      "\n",
      "Number : 84. Square : 7056\n",
      "\n",
      "*************************\n",
      "\n",
      "Number : 85. Square : 7225\n",
      "\n",
      "*************************\n",
      "\n",
      "Number : 86. Square : 7396\n",
      "\n",
      "*************************\n",
      "\n",
      "Number : 87. Square : 7569\n",
      "\n",
      "*************************\n",
      "\n",
      "Number : 88. Square : 7744\n",
      "\n",
      "*************************\n",
      "\n",
      "Number : 89. Square : 7921\n",
      "\n",
      "*************************\n",
      "\n",
      "Number : 90. Square : 8100\n",
      "\n",
      "*************************\n",
      "\n",
      "Number : 91. Square : 8281\n",
      "\n",
      "*************************\n",
      "\n",
      "Number : 92. Square : 8464\n",
      "\n",
      "*************************\n",
      "\n",
      "Number : 93. Square : 8649\n",
      "\n",
      "*************************\n",
      "\n",
      "Number : 94. Square : 8836\n",
      "\n",
      "*************************\n",
      "\n",
      "Number : 95. Square : 9025\n",
      "\n",
      "*************************\n",
      "\n",
      "Number : 96. Square : 9216\n",
      "\n",
      "*************************\n",
      "\n",
      "Number : 97. Square : 9409\n",
      "\n",
      "*************************\n",
      "\n",
      "Number : 98. Square : 9604\n",
      "\n",
      "*************************\n",
      "\n",
      "Number : 99. Square : 9801\n",
      "\n",
      "*************************\n",
      "\n",
      "Number : 100. Square : 10000\n",
      "\n",
      "*************************\n",
      "\n"
     ]
    }
   ],
   "source": [
    "# find out squares of first N numbers\n",
    "\n",
    "for x in range(101):\n",
    "    print(f'Number : {x}. Square : {x*x}')\n",
    "    print(f'\\n*************************\\n')"
   ]
  },
  {
   "cell_type": "code",
   "execution_count": 20,
   "id": "8f899cf5",
   "metadata": {},
   "outputs": [
    {
     "ename": "AttributeError",
     "evalue": "'int' object has no attribute 'shape'",
     "output_type": "error",
     "traceback": [
      "\u001b[1;31m---------------------------------------------------------------------------\u001b[0m",
      "\u001b[1;31mAttributeError\u001b[0m                            Traceback (most recent call last)",
      "Cell \u001b[1;32mIn[20], line 1\u001b[0m\n\u001b[1;32m----> 1\u001b[0m \u001b[43mx\u001b[49m\u001b[38;5;241;43m.\u001b[39;49m\u001b[43mshape\u001b[49m\n",
      "\u001b[1;31mAttributeError\u001b[0m: 'int' object has no attribute 'shape'"
     ]
    }
   ],
   "source": [
    "x.shape"
   ]
  },
  {
   "cell_type": "code",
   "execution_count": 6,
   "id": "4f81201b",
   "metadata": {},
   "outputs": [
    {
     "name": "stdout",
     "output_type": "stream",
     "text": [
      "Please Enter Your First Number : 5\n",
      "Please Enter Your Second Number :5\n",
      "10\n"
     ]
    }
   ],
   "source": [
    "first = int(input(\"Please Enter Your First Number : \"))\n",
    "second = int(input(\"Please Enter Your Second Number :\"))\n",
    "\n",
    "sum = int(first + second)\n",
    "\n",
    "print(sum)"
   ]
  },
  {
   "cell_type": "code",
   "execution_count": 23,
   "id": "df195bb2",
   "metadata": {},
   "outputs": [
    {
     "name": "stdout",
     "output_type": "stream",
     "text": [
      "Please Enter Your age : 17\n",
      "The given age is not eligible for vote\n"
     ]
    }
   ],
   "source": [
    "age = int(input(\"Please Enter Your age : \"))\n",
    "if age>=18:\n",
    "    print(\"The given age is eligible for vote\")   \n",
    "else:\n",
    "      print(\"The given age is not eligible for vote\")"
   ]
  },
  {
   "cell_type": "code",
   "execution_count": null,
   "id": "8247e286",
   "metadata": {},
   "outputs": [],
   "source": []
  }
 ],
 "metadata": {
  "kernelspec": {
   "display_name": "Python 3 (ipykernel)",
   "language": "python",
   "name": "python3"
  },
  "language_info": {
   "codemirror_mode": {
    "name": "ipython",
    "version": 3
   },
   "file_extension": ".py",
   "mimetype": "text/x-python",
   "name": "python",
   "nbconvert_exporter": "python",
   "pygments_lexer": "ipython3",
   "version": "3.10.9"
  }
 },
 "nbformat": 4,
 "nbformat_minor": 5
}
