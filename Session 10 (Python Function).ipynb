{
 "cells": [
  {
   "cell_type": "markdown",
   "id": "b99bcbff",
   "metadata": {},
   "source": [
    "## Python Function\n"
   ]
  },
  {
   "cell_type": "markdown",
   "id": "96b30cb4",
   "metadata": {},
   "source": [
    "## Generator Function\n",
    "Purpose to create any sequence numerical or alphavetic eg. 1,4,9,16, 25,...."
   ]
  },
  {
   "cell_type": "code",
   "execution_count": 1,
   "id": "519bb5ef",
   "metadata": {},
   "outputs": [
    {
     "data": {
      "text/plain": [
       "range(0, 7)"
      ]
     },
     "execution_count": 1,
     "metadata": {},
     "output_type": "execute_result"
    }
   ],
   "source": [
    "range(7)"
   ]
  },
  {
   "cell_type": "code",
   "execution_count": 2,
   "id": "fed0b81f",
   "metadata": {},
   "outputs": [
    {
     "data": {
      "text/plain": [
       "[0, 1, 2, 3, 4, 5, 6]"
      ]
     },
     "execution_count": 2,
     "metadata": {},
     "output_type": "execute_result"
    }
   ],
   "source": [
    "list(range(7))"
   ]
  },
  {
   "cell_type": "code",
   "execution_count": 3,
   "id": "e917fa6e",
   "metadata": {},
   "outputs": [
    {
     "name": "stdout",
     "output_type": "stream",
     "text": [
      "0\n",
      "1\n",
      "2\n",
      "3\n",
      "4\n",
      "5\n",
      "6\n"
     ]
    }
   ],
   "source": [
    "for i in range(7):\n",
    "    print(i)"
   ]
  },
  {
   "cell_type": "markdown",
   "id": "c2d966c2",
   "metadata": {},
   "source": [
    "## Range Syntax\n",
    "1.range(start, stop, step)\n",
    "2.range(stop) : start = 0, step = 1"
   ]
  },
  {
   "cell_type": "code",
   "execution_count": 4,
   "id": "c6cac7f8",
   "metadata": {},
   "outputs": [
    {
     "data": {
      "text/plain": [
       "range(2, 20, 2)"
      ]
     },
     "execution_count": 4,
     "metadata": {},
     "output_type": "execute_result"
    }
   ],
   "source": [
    "range(2,20,2)"
   ]
  },
  {
   "cell_type": "code",
   "execution_count": 5,
   "id": "ae841c17",
   "metadata": {},
   "outputs": [
    {
     "data": {
      "text/plain": [
       "[2, 4, 6, 8, 10, 12, 14, 16, 18]"
      ]
     },
     "execution_count": 5,
     "metadata": {},
     "output_type": "execute_result"
    }
   ],
   "source": [
    "list(range(2,20,2))"
   ]
  },
  {
   "cell_type": "code",
   "execution_count": 6,
   "id": "258cb9e0",
   "metadata": {},
   "outputs": [
    {
     "name": "stdout",
     "output_type": "stream",
     "text": [
      "2\n",
      "4\n",
      "6\n",
      "8\n",
      "10\n",
      "12\n",
      "14\n",
      "16\n",
      "18\n"
     ]
    }
   ],
   "source": [
    "for i in range(2,20,2):\n",
    "    print(i)"
   ]
  },
  {
   "cell_type": "markdown",
   "id": "9ddbdcc0",
   "metadata": {},
   "source": [
    "### Create a generator function to output square of first n natural number\n",
    "1,4,9,16,25,36,...n^2"
   ]
  },
  {
   "cell_type": "code",
   "execution_count": 7,
   "id": "d0c0df76",
   "metadata": {},
   "outputs": [
    {
     "data": {
      "text/plain": [
       "range(1, 11, 2)"
      ]
     },
     "execution_count": 7,
     "metadata": {},
     "output_type": "execute_result"
    }
   ],
   "source": [
    "range(1,11,2)"
   ]
  },
  {
   "cell_type": "code",
   "execution_count": 8,
   "id": "a5cb0d91",
   "metadata": {},
   "outputs": [
    {
     "data": {
      "text/plain": [
       "[1, 3, 5, 7, 9]"
      ]
     },
     "execution_count": 8,
     "metadata": {},
     "output_type": "execute_result"
    }
   ],
   "source": [
    "list(range(1,11,2))"
   ]
  },
  {
   "cell_type": "code",
   "execution_count": 9,
   "id": "9394fa46",
   "metadata": {},
   "outputs": [],
   "source": [
    "def sqr_seq(n):\n",
    "    \"\"\"\n",
    "    This function provides squares \n",
    "    upto first n natural numbers\n",
    "    \n",
    "    \"\"\"\n",
    "    for i in range(1,n+1,1):\n",
    "        yield i**2"
   ]
  },
  {
   "cell_type": "code",
   "execution_count": 10,
   "id": "7ab8f75f",
   "metadata": {},
   "outputs": [
    {
     "data": {
      "text/plain": [
       "<generator object sqr_seq at 0x000001B941EAC270>"
      ]
     },
     "execution_count": 10,
     "metadata": {},
     "output_type": "execute_result"
    }
   ],
   "source": [
    "sqr_seq(16)"
   ]
  },
  {
   "cell_type": "code",
   "execution_count": 11,
   "id": "5707a2a3",
   "metadata": {},
   "outputs": [
    {
     "name": "stdout",
     "output_type": "stream",
     "text": [
      "1\n",
      "4\n",
      "9\n",
      "16\n",
      "25\n",
      "36\n",
      "49\n",
      "64\n",
      "81\n",
      "100\n",
      "121\n",
      "144\n",
      "169\n",
      "196\n",
      "225\n",
      "256\n"
     ]
    }
   ],
   "source": [
    "for i in sqr_seq(16):\n",
    "    print(i)"
   ]
  },
  {
   "cell_type": "markdown",
   "id": "a692a66c",
   "metadata": {},
   "source": [
    "### Generator function to create fibonacci sequence"
   ]
  },
  {
   "cell_type": "code",
   "execution_count": 12,
   "id": "03a5fd72",
   "metadata": {},
   "outputs": [],
   "source": [
    "def fib_seq(n):\n",
    "    a,b = 0,1\n",
    "    for i in range(n):\n",
    "        yield a\n",
    "        a, b=b, a+b"
   ]
  },
  {
   "cell_type": "code",
   "execution_count": 13,
   "id": "abcc7573",
   "metadata": {},
   "outputs": [
    {
     "data": {
      "text/plain": [
       "<generator object fib_seq at 0x000001B941EAC580>"
      ]
     },
     "execution_count": 13,
     "metadata": {},
     "output_type": "execute_result"
    }
   ],
   "source": [
    "fib_seq(21)"
   ]
  },
  {
   "cell_type": "code",
   "execution_count": 14,
   "id": "ad63b965",
   "metadata": {},
   "outputs": [
    {
     "name": "stdout",
     "output_type": "stream",
     "text": [
      "0\n",
      "1\n",
      "1\n",
      "2\n",
      "3\n",
      "5\n",
      "8\n",
      "13\n",
      "21\n",
      "34\n",
      "55\n",
      "89\n",
      "144\n",
      "233\n",
      "377\n",
      "610\n",
      "987\n",
      "1597\n",
      "2584\n",
      "4181\n",
      "6765\n"
     ]
    }
   ],
   "source": [
    "for i in fib_seq(21):\n",
    "    print(i)"
   ]
  },
  {
   "cell_type": "code",
   "execution_count": 15,
   "id": "1573b2fb",
   "metadata": {},
   "outputs": [],
   "source": [
    "fib = []\n",
    "for i in fib_seq(21):\n",
    "    fib.append(i)"
   ]
  },
  {
   "cell_type": "code",
   "execution_count": 16,
   "id": "ca446ea9",
   "metadata": {},
   "outputs": [
    {
     "name": "stdout",
     "output_type": "stream",
     "text": [
      "[0, 1, 1, 2, 3, 5, 8, 13, 21, 34, 55, 89, 144, 233, 377, 610, 987, 1597, 2584, 4181, 6765]\n"
     ]
    }
   ],
   "source": [
    "print(fib)"
   ]
  },
  {
   "cell_type": "code",
   "execution_count": 17,
   "id": "c3a0f1b8",
   "metadata": {},
   "outputs": [
    {
     "data": {
      "text/plain": [
       "21"
      ]
     },
     "execution_count": 17,
     "metadata": {},
     "output_type": "execute_result"
    }
   ],
   "source": [
    "len(fib)"
   ]
  },
  {
   "cell_type": "markdown",
   "id": "ab6180a2",
   "metadata": {},
   "source": [
    "## Anonymous functions or Lambda"
   ]
  },
  {
   "cell_type": "code",
   "execution_count": 18,
   "id": "7c1bebf8",
   "metadata": {},
   "outputs": [],
   "source": [
    "# Function to output square a given number\n",
    "def square(n):\n",
    "    s=n*n\n",
    "    return s"
   ]
  },
  {
   "cell_type": "code",
   "execution_count": 19,
   "id": "504df101",
   "metadata": {},
   "outputs": [
    {
     "data": {
      "text/plain": [
       "1225"
      ]
     },
     "execution_count": 19,
     "metadata": {},
     "output_type": "execute_result"
    }
   ],
   "source": [
    "square(35)"
   ]
  },
  {
   "cell_type": "code",
   "execution_count": 20,
   "id": "29de3048",
   "metadata": {},
   "outputs": [],
   "source": [
    "sqr = lambda x : x*x"
   ]
  },
  {
   "cell_type": "code",
   "execution_count": 21,
   "id": "0e06e8ec",
   "metadata": {},
   "outputs": [
    {
     "data": {
      "text/plain": [
       "1225"
      ]
     },
     "execution_count": 21,
     "metadata": {},
     "output_type": "execute_result"
    }
   ],
   "source": [
    "sqr(35)"
   ]
  },
  {
   "cell_type": "code",
   "execution_count": 22,
   "id": "19275554",
   "metadata": {},
   "outputs": [
    {
     "data": {
      "text/plain": [
       "1296"
      ]
     },
     "execution_count": 22,
     "metadata": {},
     "output_type": "execute_result"
    }
   ],
   "source": [
    "sqr(36)"
   ]
  },
  {
   "cell_type": "code",
   "execution_count": 23,
   "id": "3d139932",
   "metadata": {},
   "outputs": [
    {
     "data": {
      "text/plain": [
       "132.25"
      ]
     },
     "execution_count": 23,
     "metadata": {},
     "output_type": "execute_result"
    }
   ],
   "source": [
    "sqr(11.5)"
   ]
  },
  {
   "cell_type": "markdown",
   "id": "0063fc53",
   "metadata": {},
   "source": [
    "## Addition example"
   ]
  },
  {
   "cell_type": "code",
   "execution_count": 24,
   "id": "107d040f",
   "metadata": {},
   "outputs": [],
   "source": [
    "add = lambda a,b: a+b"
   ]
  },
  {
   "cell_type": "code",
   "execution_count": 25,
   "id": "8456e99b",
   "metadata": {},
   "outputs": [
    {
     "data": {
      "text/plain": [
       "45"
      ]
     },
     "execution_count": 25,
     "metadata": {},
     "output_type": "execute_result"
    }
   ],
   "source": [
    "add(20,25)"
   ]
  },
  {
   "cell_type": "code",
   "execution_count": 26,
   "id": "ff2005c9",
   "metadata": {},
   "outputs": [
    {
     "data": {
      "text/plain": [
       "25.5"
      ]
     },
     "execution_count": 26,
     "metadata": {},
     "output_type": "execute_result"
    }
   ],
   "source": [
    "add(10.5,15)"
   ]
  },
  {
   "cell_type": "markdown",
   "id": "01b1a7c5",
   "metadata": {},
   "source": [
    "## Check whether given number is even or odd"
   ]
  },
  {
   "cell_type": "code",
   "execution_count": 27,
   "id": "26fc5db0",
   "metadata": {},
   "outputs": [],
   "source": [
    "def even_odd(n):\n",
    "    if n%2==0:\n",
    "        s = 'even'\n",
    "    else:\n",
    "        s = 'odd'\n",
    "        \n",
    "    return s"
   ]
  },
  {
   "cell_type": "code",
   "execution_count": 28,
   "id": "1751afad",
   "metadata": {},
   "outputs": [
    {
     "data": {
      "text/plain": [
       "'odd'"
      ]
     },
     "execution_count": 28,
     "metadata": {},
     "output_type": "execute_result"
    }
   ],
   "source": [
    "even_odd(105)"
   ]
  },
  {
   "cell_type": "code",
   "execution_count": 29,
   "id": "5f653577",
   "metadata": {},
   "outputs": [
    {
     "data": {
      "text/plain": [
       "'even'"
      ]
     },
     "execution_count": 29,
     "metadata": {},
     "output_type": "execute_result"
    }
   ],
   "source": [
    "even_odd(100)"
   ]
  },
  {
   "cell_type": "code",
   "execution_count": 30,
   "id": "58bb17ff",
   "metadata": {},
   "outputs": [],
   "source": [
    "check_eo = lambda n: 'even' if n%2==0 else 'odd'"
   ]
  },
  {
   "cell_type": "code",
   "execution_count": 31,
   "id": "f5269ba5",
   "metadata": {},
   "outputs": [
    {
     "data": {
      "text/plain": [
       "'odd'"
      ]
     },
     "execution_count": 31,
     "metadata": {},
     "output_type": "execute_result"
    }
   ],
   "source": [
    "check_eo(37)"
   ]
  },
  {
   "cell_type": "code",
   "execution_count": 32,
   "id": "bc16db1e",
   "metadata": {},
   "outputs": [
    {
     "data": {
      "text/plain": [
       "'even'"
      ]
     },
     "execution_count": 32,
     "metadata": {},
     "output_type": "execute_result"
    }
   ],
   "source": [
    "check_eo(28)"
   ]
  },
  {
   "cell_type": "code",
   "execution_count": 33,
   "id": "16632fca",
   "metadata": {},
   "outputs": [
    {
     "ename": "TypeError",
     "evalue": "<lambda>() takes 1 positional argument but 3 were given",
     "output_type": "error",
     "traceback": [
      "\u001b[1;31m---------------------------------------------------------------------------\u001b[0m",
      "\u001b[1;31mTypeError\u001b[0m                                 Traceback (most recent call last)",
      "Cell \u001b[1;32mIn[33], line 1\u001b[0m\n\u001b[1;32m----> 1\u001b[0m \u001b[43mcheck_eo\u001b[49m\u001b[43m(\u001b[49m\u001b[38;5;241;43m11\u001b[39;49m\u001b[43m,\u001b[49m\u001b[38;5;241;43m10\u001b[39;49m\u001b[43m,\u001b[49m\u001b[38;5;241;43m15\u001b[39;49m\u001b[43m)\u001b[49m\n",
      "\u001b[1;31mTypeError\u001b[0m: <lambda>() takes 1 positional argument but 3 were given"
     ]
    }
   ],
   "source": [
    "check_eo(11,10,15)"
   ]
  },
  {
   "cell_type": "markdown",
   "id": "605c4ab0",
   "metadata": {},
   "source": [
    "## Seperate Even and odd in a list\n"
   ]
  },
  {
   "cell_type": "code",
   "execution_count": 34,
   "id": "5f9b4fa2",
   "metadata": {},
   "outputs": [],
   "source": [
    "def even_odd_list(*args):\n",
    "    even = []\n",
    "    odd = []\n",
    "    for i in args:\n",
    "        if i%2==0:\n",
    "            even.append(i)\n",
    "        else:\n",
    "            odd.append(i)\n",
    "    return even, odd"
   ]
  },
  {
   "cell_type": "code",
   "execution_count": 35,
   "id": "051520e2",
   "metadata": {},
   "outputs": [
    {
     "data": {
      "text/plain": [
       "([38, 46, 50, 106, 122], [39, 35, 37, 55, 105, 121])"
      ]
     },
     "execution_count": 35,
     "metadata": {},
     "output_type": "execute_result"
    }
   ],
   "source": [
    "even_odd_list(38,39,35,37,55,46,50,105,106,121,122)"
   ]
  },
  {
   "cell_type": "code",
   "execution_count": 36,
   "id": "e7110cc4",
   "metadata": {},
   "outputs": [],
   "source": [
    "ev,od =even_odd_list(38,39,35,37,55,46,50,105,106,121,122)"
   ]
  },
  {
   "cell_type": "code",
   "execution_count": 37,
   "id": "7ee8c204",
   "metadata": {},
   "outputs": [
    {
     "data": {
      "text/plain": [
       "[38, 46, 50, 106, 122]"
      ]
     },
     "execution_count": 37,
     "metadata": {},
     "output_type": "execute_result"
    }
   ],
   "source": [
    "ev"
   ]
  },
  {
   "cell_type": "code",
   "execution_count": 38,
   "id": "204927d6",
   "metadata": {},
   "outputs": [
    {
     "data": {
      "text/plain": [
       "[39, 35, 37, 55, 105, 121]"
      ]
     },
     "execution_count": 38,
     "metadata": {},
     "output_type": "execute_result"
    }
   ],
   "source": [
    "od"
   ]
  },
  {
   "cell_type": "code",
   "execution_count": 39,
   "id": "076d91a6",
   "metadata": {},
   "outputs": [],
   "source": [
    "eo_list = lambda lst : ([i for i in lst if i%2==0],\n",
    "                        [i for i in lst if i%2!=0])"
   ]
  },
  {
   "cell_type": "code",
   "execution_count": 40,
   "id": "8e4746c7",
   "metadata": {},
   "outputs": [
    {
     "data": {
      "text/plain": [
       "([2, 4, 6, 8], [1, 3, 5, 7, 9])"
      ]
     },
     "execution_count": 40,
     "metadata": {},
     "output_type": "execute_result"
    }
   ],
   "source": [
    "eo_list([1,2,3,4,5,6,7,8,9])"
   ]
  },
  {
   "cell_type": "code",
   "execution_count": 41,
   "id": "e85c4e13",
   "metadata": {},
   "outputs": [],
   "source": [
    "e,o = eo_list([1,2,3,4,5,6,7,8,9])"
   ]
  },
  {
   "cell_type": "code",
   "execution_count": 42,
   "id": "9adab4ba",
   "metadata": {},
   "outputs": [
    {
     "data": {
      "text/plain": [
       "[2, 4, 6, 8]"
      ]
     },
     "execution_count": 42,
     "metadata": {},
     "output_type": "execute_result"
    }
   ],
   "source": [
    "e"
   ]
  },
  {
   "cell_type": "code",
   "execution_count": 43,
   "id": "7591e0fb",
   "metadata": {},
   "outputs": [
    {
     "data": {
      "text/plain": [
       "[1, 3, 5, 7, 9]"
      ]
     },
     "execution_count": 43,
     "metadata": {},
     "output_type": "execute_result"
    }
   ],
   "source": [
    "o"
   ]
  },
  {
   "cell_type": "markdown",
   "id": "50ca5f91",
   "metadata": {},
   "source": [
    "## Map function"
   ]
  },
  {
   "cell_type": "code",
   "execution_count": 44,
   "id": "9f51d5b5",
   "metadata": {},
   "outputs": [
    {
     "data": {
      "text/plain": [
       "144"
      ]
     },
     "execution_count": 44,
     "metadata": {},
     "output_type": "execute_result"
    }
   ],
   "source": [
    "sqr(12)"
   ]
  },
  {
   "cell_type": "code",
   "execution_count": 48,
   "id": "e2ce6ef0",
   "metadata": {},
   "outputs": [
    {
     "ename": "TypeError",
     "evalue": "can't multiply sequence by non-int of type 'list'",
     "output_type": "error",
     "traceback": [
      "\u001b[1;31m---------------------------------------------------------------------------\u001b[0m",
      "\u001b[1;31mTypeError\u001b[0m                                 Traceback (most recent call last)",
      "Cell \u001b[1;32mIn[48], line 1\u001b[0m\n\u001b[1;32m----> 1\u001b[0m \u001b[43msqr\u001b[49m\u001b[43m(\u001b[49m\u001b[43m[\u001b[49m\u001b[38;5;241;43m12\u001b[39;49m\u001b[43m,\u001b[49m\u001b[38;5;241;43m15\u001b[39;49m\u001b[43m,\u001b[49m\u001b[38;5;241;43m18\u001b[39;49m\u001b[43m,\u001b[49m\u001b[38;5;241;43m16\u001b[39;49m\u001b[43m,\u001b[49m\u001b[38;5;241;43m14\u001b[39;49m\u001b[43m,\u001b[49m\u001b[38;5;241;43m13\u001b[39;49m\u001b[43m]\u001b[49m\u001b[43m)\u001b[49m\n",
      "Cell \u001b[1;32mIn[20], line 1\u001b[0m, in \u001b[0;36m<lambda>\u001b[1;34m(x)\u001b[0m\n\u001b[1;32m----> 1\u001b[0m sqr \u001b[38;5;241m=\u001b[39m \u001b[38;5;28;01mlambda\u001b[39;00m x : \u001b[43mx\u001b[49m\u001b[38;5;241;43m*\u001b[39;49m\u001b[43mx\u001b[49m\n",
      "\u001b[1;31mTypeError\u001b[0m: can't multiply sequence by non-int of type 'list'"
     ]
    }
   ],
   "source": [
    "sqr([12,15,18,16,14,13])"
   ]
  },
  {
   "cell_type": "code",
   "execution_count": 49,
   "id": "0e8f2a12",
   "metadata": {},
   "outputs": [
    {
     "data": {
      "text/plain": [
       "<map at 0x1b9430be650>"
      ]
     },
     "execution_count": 49,
     "metadata": {},
     "output_type": "execute_result"
    }
   ],
   "source": [
    "a = [11,12,13,14,15,16]\n",
    "map(sqr,a)"
   ]
  },
  {
   "cell_type": "code",
   "execution_count": 50,
   "id": "3b0c7315",
   "metadata": {},
   "outputs": [
    {
     "data": {
      "text/plain": [
       "[121, 144, 169, 196, 225, 256]"
      ]
     },
     "execution_count": 50,
     "metadata": {},
     "output_type": "execute_result"
    }
   ],
   "source": [
    "list(map(sqr,a))"
   ]
  },
  {
   "cell_type": "code",
   "execution_count": 51,
   "id": "1ee845fb",
   "metadata": {},
   "outputs": [
    {
     "data": {
      "text/plain": [
       "<map at 0x1b943091480>"
      ]
     },
     "execution_count": 51,
     "metadata": {},
     "output_type": "execute_result"
    }
   ],
   "source": [
    "b = [21,22,23,24,25,26]\n",
    "map(even_odd,b)"
   ]
  },
  {
   "cell_type": "code",
   "execution_count": 52,
   "id": "054a45ae",
   "metadata": {},
   "outputs": [
    {
     "data": {
      "text/plain": [
       "['odd', 'even', 'odd', 'even', 'odd', 'even']"
      ]
     },
     "execution_count": 52,
     "metadata": {},
     "output_type": "execute_result"
    }
   ],
   "source": [
    "list(map(even_odd,b))"
   ]
  },
  {
   "cell_type": "code",
   "execution_count": 53,
   "id": "ede67d2f",
   "metadata": {},
   "outputs": [
    {
     "ename": "TypeError",
     "evalue": "unsupported operand type(s) for %: 'list' and 'int'",
     "output_type": "error",
     "traceback": [
      "\u001b[1;31m---------------------------------------------------------------------------\u001b[0m",
      "\u001b[1;31mTypeError\u001b[0m                                 Traceback (most recent call last)",
      "Cell \u001b[1;32mIn[53], line 1\u001b[0m\n\u001b[1;32m----> 1\u001b[0m \u001b[43meven_odd\u001b[49m\u001b[43m(\u001b[49m\u001b[43m[\u001b[49m\u001b[38;5;241;43m11\u001b[39;49m\u001b[43m,\u001b[49m\u001b[38;5;241;43m12\u001b[39;49m\u001b[43m,\u001b[49m\u001b[38;5;241;43m13\u001b[39;49m\u001b[43m,\u001b[49m\u001b[38;5;241;43m14\u001b[39;49m\u001b[43m,\u001b[49m\u001b[38;5;241;43m15\u001b[39;49m\u001b[43m]\u001b[49m\u001b[43m)\u001b[49m\n",
      "Cell \u001b[1;32mIn[27], line 2\u001b[0m, in \u001b[0;36meven_odd\u001b[1;34m(n)\u001b[0m\n\u001b[0;32m      1\u001b[0m \u001b[38;5;28;01mdef\u001b[39;00m \u001b[38;5;21meven_odd\u001b[39m(n):\n\u001b[1;32m----> 2\u001b[0m     \u001b[38;5;28;01mif\u001b[39;00m \u001b[43mn\u001b[49m\u001b[38;5;241;43m%\u001b[39;49m\u001b[38;5;241;43m2\u001b[39;49m\u001b[38;5;241m==\u001b[39m\u001b[38;5;241m0\u001b[39m:\n\u001b[0;32m      3\u001b[0m         s \u001b[38;5;241m=\u001b[39m \u001b[38;5;124m'\u001b[39m\u001b[38;5;124meven\u001b[39m\u001b[38;5;124m'\u001b[39m\n\u001b[0;32m      4\u001b[0m     \u001b[38;5;28;01melse\u001b[39;00m:\n",
      "\u001b[1;31mTypeError\u001b[0m: unsupported operand type(s) for %: 'list' and 'int'"
     ]
    }
   ],
   "source": [
    "even_odd([11,12,13,14,15])"
   ]
  },
  {
   "cell_type": "code",
   "execution_count": 54,
   "id": "f6a9afa8",
   "metadata": {},
   "outputs": [],
   "source": [
    "f = lambda x:x+1"
   ]
  },
  {
   "cell_type": "code",
   "execution_count": 55,
   "id": "3ca4d6ee",
   "metadata": {},
   "outputs": [
    {
     "data": {
      "text/plain": [
       "5"
      ]
     },
     "execution_count": 55,
     "metadata": {},
     "output_type": "execute_result"
    }
   ],
   "source": [
    "f(4)"
   ]
  },
  {
   "cell_type": "code",
   "execution_count": 56,
   "id": "1cba15c4",
   "metadata": {},
   "outputs": [
    {
     "data": {
      "text/plain": [
       "10"
      ]
     },
     "execution_count": 56,
     "metadata": {},
     "output_type": "execute_result"
    }
   ],
   "source": [
    "f(9)"
   ]
  },
  {
   "cell_type": "code",
   "execution_count": 57,
   "id": "5fce1932",
   "metadata": {},
   "outputs": [
    {
     "ename": "TypeError",
     "evalue": "can only concatenate list (not \"int\") to list",
     "output_type": "error",
     "traceback": [
      "\u001b[1;31m---------------------------------------------------------------------------\u001b[0m",
      "\u001b[1;31mTypeError\u001b[0m                                 Traceback (most recent call last)",
      "Cell \u001b[1;32mIn[57], line 1\u001b[0m\n\u001b[1;32m----> 1\u001b[0m \u001b[43mf\u001b[49m\u001b[43m(\u001b[49m\u001b[43m[\u001b[49m\u001b[38;5;241;43m1\u001b[39;49m\u001b[43m,\u001b[49m\u001b[38;5;241;43m2\u001b[39;49m\u001b[43m,\u001b[49m\u001b[38;5;241;43m3\u001b[39;49m\u001b[43m,\u001b[49m\u001b[38;5;241;43m4\u001b[39;49m\u001b[43m,\u001b[49m\u001b[38;5;241;43m5\u001b[39;49m\u001b[43m]\u001b[49m\u001b[43m)\u001b[49m\n",
      "Cell \u001b[1;32mIn[54], line 1\u001b[0m, in \u001b[0;36m<lambda>\u001b[1;34m(x)\u001b[0m\n\u001b[1;32m----> 1\u001b[0m f \u001b[38;5;241m=\u001b[39m \u001b[38;5;28;01mlambda\u001b[39;00m x:\u001b[43mx\u001b[49m\u001b[38;5;241;43m+\u001b[39;49m\u001b[38;5;241;43m1\u001b[39;49m\n",
      "\u001b[1;31mTypeError\u001b[0m: can only concatenate list (not \"int\") to list"
     ]
    }
   ],
   "source": [
    "f([1,2,3,4,5])"
   ]
  },
  {
   "cell_type": "code",
   "execution_count": 58,
   "id": "25adac86",
   "metadata": {},
   "outputs": [
    {
     "data": {
      "text/plain": [
       "[2, 3, 4, 5, 6]"
      ]
     },
     "execution_count": 58,
     "metadata": {},
     "output_type": "execute_result"
    }
   ],
   "source": [
    "c = [1,2,3,4,5]\n",
    "list(map(f,c))"
   ]
  },
  {
   "cell_type": "code",
   "execution_count": 59,
   "id": "544d6b42",
   "metadata": {},
   "outputs": [
    {
     "data": {
      "text/plain": [
       "[2, 3, 4, 5, 6, 7, 8, 9, 10, 11]"
      ]
     },
     "execution_count": 59,
     "metadata": {},
     "output_type": "execute_result"
    }
   ],
   "source": [
    "list(map(f,range(1,11)))"
   ]
  },
  {
   "attachments": {
    "image.png": {
     "image/png": "[encoded data removed]"
    }
   },
   "cell_type": "markdown",
   "id": "c674edfd",
   "metadata": {},
   "source": [
    "![image.png](attachment:image.png)"
   ]
  },
  {
   "cell_type": "code",
   "execution_count": null,
   "id": "b9fdfa38",
   "metadata": {},
   "outputs": [],
   "source": []
  },
  {
   "attachments": {
    "image.png": {
     "image/png": "[encoded data removed]"
    }
   },
   "cell_type": "markdown",
   "id": "d82f65bc",
   "metadata": {},
   "source": [
    "![image.png](attachment:image.png)"
   ]
  },
  {
   "cell_type": "code",
   "execution_count": 64,
   "id": "fecb0f65",
   "metadata": {},
   "outputs": [
    {
     "name": "stdout",
     "output_type": "stream",
     "text": [
      "The factorial of 1 is : 1\n",
      "The factorial of 2 is : 2\n",
      "The factorial of 3 is : 6\n",
      "The factorial of 4 is : 24\n",
      "The factorial of 5 is : 120\n"
     ]
    }
   ],
   "source": [
    "def fact(num):\n",
    "    result=1\n",
    "    while num>=1:\n",
    "        result=result*num\n",
    "        num=num-1\n",
    "    return result\n",
    "for i in range(1,6):\n",
    "    print(f'The factorial of {i} is :',fact(i))"
   ]
  },
  {
   "cell_type": "code",
   "execution_count": 65,
   "id": "82e57b47",
   "metadata": {},
   "outputs": [
    {
     "data": {
      "text/plain": [
       "120"
      ]
     },
     "execution_count": 65,
     "metadata": {},
     "output_type": "execute_result"
    }
   ],
   "source": [
    "fact(5)"
   ]
  },
  {
   "attachments": {
    "image.png": {
     "image/png": "[encoded data removed]"
    }
   },
   "cell_type": "markdown",
   "id": "ed066e78",
   "metadata": {},
   "source": [
    "![image.png](attachment:image.png)"
   ]
  },
  {
   "attachments": {
    "image.png": {
     "image/png": "[encoded data removed]"
    }
   },
   "cell_type": "markdown",
   "id": "68c41b47",
   "metadata": {},
   "source": [
    "![image.png](attachment:image.png)"
   ]
  },
  {
   "cell_type": "code",
   "execution_count": 66,
   "id": "bd222630",
   "metadata": {},
   "outputs": [],
   "source": [
    "def EMI(P,N,R):\n",
    "    \"\"\"\n",
    "    Input : P = Principal in INR\n",
    "            N = Period in Years\n",
    "            R = Rate of intrest in %p.a.\n",
    "    Output : EMI\n",
    "    \"\"\"\n",
    "    n1=N*12\n",
    "    r1=R/(12*100)\n",
    "    x=(1+r1)**n1\n",
    "    e=(P*r1*x)/(x-1)\n",
    "    return e\n",
    "    "
   ]
  },
  {
   "cell_type": "code",
   "execution_count": 67,
   "id": "481cbf17",
   "metadata": {},
   "outputs": [
    {
     "data": {
      "text/plain": [
       "1232.4151679417853"
      ]
     },
     "execution_count": 67,
     "metadata": {},
     "output_type": "execute_result"
    }
   ],
   "source": [
    "EMI(50000,4,8.5)"
   ]
  },
  {
   "cell_type": "code",
   "execution_count": 69,
   "id": "3a87a918",
   "metadata": {},
   "outputs": [
    {
     "data": {
      "text/plain": [
       "3142.8711363637353"
      ]
     },
     "execution_count": 69,
     "metadata": {},
     "output_type": "execute_result"
    }
   ],
   "source": [
    "EMI(100000,3,8.2)"
   ]
  },
  {
   "attachments": {
    "image.png": {
     "image/png": "[encoded data removed]"
    }
   },
   "cell_type": "markdown",
   "id": "7b853705",
   "metadata": {},
   "source": [
    "![image.png](attachment:image.png)"
   ]
  },
  {
   "cell_type": "raw",
   "id": "8bcc4cc3",
   "metadata": {},
   "source": []
  },
  {
   "cell_type": "code",
   "execution_count": null,
   "id": "817d3c9c",
   "metadata": {},
   "outputs": [],
   "source": []
  }
 ],
 "metadata": {
  "kernelspec": {
   "display_name": "Python 3 (ipykernel)",
   "language": "python",
   "name": "python3"
  },
  "language_info": {
   "codemirror_mode": {
    "name": "ipython",
    "version": 3
   },
   "file_extension": ".py",
   "mimetype": "text/x-python",
   "name": "python",
   "nbconvert_exporter": "python",
   "pygments_lexer": "ipython3",
   "version": "3.10.9"
  }
 },
 "nbformat": 4,
 "nbformat_minor": 5
}
