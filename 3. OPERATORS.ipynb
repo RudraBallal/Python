{
 "cells": [
  {
   "cell_type": "markdown",
   "id": "cdbbcc53",
   "metadata": {},
   "source": [
    "#### Operator is a symbol that performs certain operations.\n",
    "#### python provides the following set operators"
   ]
  },
  {
   "cell_type": "markdown",
   "id": "bbcde50c",
   "metadata": {},
   "source": [
    "#### 1.Arithmatic Operator 2.Relational Operators or Comparison Operators 3. Logical Operator 4. Bitwise Operator 5. Assignment Operator 6.Special Operator"
   ]
  },
  {
   "cell_type": "markdown",
   "id": "a1ebcd60",
   "metadata": {},
   "source": [
    "## 1. Arithmatic Operator\n",
    "Addition,Subtraction,Multiplication, Division Opeartor, Modulo Operator, Floor division operator, exponant opearotor or power "
   ]
  },
  {
   "cell_type": "code",
   "execution_count": 4,
   "id": "6dfbe954",
   "metadata": {},
   "outputs": [
    {
     "name": "stdout",
     "output_type": "stream",
     "text": [
      "a+b= 12\n",
      "a-b= 8\n",
      "a*b= 20\n",
      "a/b= 5.0\n",
      "a%b= 0\n",
      "a//b= 5\n",
      "a**b= 100\n"
     ]
    }
   ],
   "source": [
    "a = 10\n",
    "b = 2\n",
    "print('a+b=',a+b)\n",
    "print('a-b=',a-b)\n",
    "print('a*b=',a*b)\n",
    "print('a/b=',a/b)\n",
    "print('a%b=',a%b)\n",
    "print('a//b=',a//b)\n",
    "print('a**b=',a**b)"
   ]
  },
  {
   "cell_type": "markdown",
   "id": "7e506c97",
   "metadata": {},
   "source": [
    "### Note: \n",
    "/ Division Operator always performs floating point  and integral arithmatic.hence it will always returns float value.\n",
    "But Floor division (//) can perform both floating point and integral arithmatic.if arguments are int type then result is int type.if atleast one argument is float type then result is float type."
   ]
  },
  {
   "cell_type": "markdown",
   "id": "1b2c6fe3",
   "metadata": {},
   "source": [
    "### Note :\n",
    "we can use +,* operators for string type also.\n",
    "if we want to use + operator for str type then compulsary both arguments should be str type only otherwise we will get error.\n",
    "if we use * operator for string type then compulsary one argument should be int and other argument should be string type."
   ]
  },
  {
   "cell_type": "markdown",
   "id": "7e5f7c4e",
   "metadata": {},
   "source": [
    "## 2. Relational or Comparison Operators\n"
   ]
  },
  {
   "cell_type": "code",
   "execution_count": null,
   "id": "13cfb628",
   "metadata": {},
   "outputs": [],
   "source": []
  }
 ],
 "metadata": {
  "kernelspec": {
   "display_name": "Python 3 (ipykernel)",
   "language": "python",
   "name": "python3"
  },
  "language_info": {
   "codemirror_mode": {
    "name": "ipython",
    "version": 3
   },
   "file_extension": ".py",
   "mimetype": "text/x-python",
   "name": "python",
   "nbconvert_exporter": "python",
   "pygments_lexer": "ipython3",
   "version": "3.10.9"
  }
 },
 "nbformat": 4,
 "nbformat_minor": 5
}
