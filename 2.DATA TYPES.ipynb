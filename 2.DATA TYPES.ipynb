{
 "cells": [
  {
   "cell_type": "markdown",
   "id": "a4b22c8d",
   "metadata": {},
   "source": [
    "# Data Type"
   ]
  },
  {
   "cell_type": "markdown",
   "id": "7d8c1c99",
   "metadata": {},
   "source": [
    "#### Data Type represnt the type of data present inside a variable.In python we are not required to specify the type explicitly.Based on value provided, the type will be assigned automatically.hence python is dynamically Typed Language.\n",
    "### Python contains following inbuilt data types\n",
    "1.int\n",
    "2.float\n",
    "3.string\n",
    "4.boolean\n",
    "5.complex\n",
    "6.bytes\n",
    "7.bytearray\n",
    "8.range\n",
    "9.list\n",
    "10.tuple\n",
    "11.set\n",
    "12.frozenset\n",
    "13.dict\n",
    "14.None"
   ]
  },
  {
   "cell_type": "code",
   "execution_count": 1,
   "id": "19dc52ad",
   "metadata": {},
   "outputs": [
    {
     "data": {
      "text/plain": [
       "int"
      ]
     },
     "execution_count": 1,
     "metadata": {},
     "output_type": "execute_result"
    }
   ],
   "source": [
    "a=10\n",
    "type(a)"
   ]
  },
  {
   "cell_type": "code",
   "execution_count": 2,
   "id": "5ead5f1d",
   "metadata": {},
   "outputs": [
    {
     "data": {
      "text/plain": [
       "float"
      ]
     },
     "execution_count": 2,
     "metadata": {},
     "output_type": "execute_result"
    }
   ],
   "source": [
    "b=0.5\n",
    "type(b)"
   ]
  },
  {
   "cell_type": "code",
   "execution_count": 3,
   "id": "1c75777f",
   "metadata": {},
   "outputs": [
    {
     "data": {
      "text/plain": [
       "str"
      ]
     },
     "execution_count": 3,
     "metadata": {},
     "output_type": "execute_result"
    }
   ],
   "source": [
    "c='Mahi'\n",
    "type(c)"
   ]
  },
  {
   "cell_type": "code",
   "execution_count": 4,
   "id": "58f460be",
   "metadata": {},
   "outputs": [
    {
     "data": {
      "text/plain": [
       "bool"
      ]
     },
     "execution_count": 4,
     "metadata": {},
     "output_type": "execute_result"
    }
   ],
   "source": [
    "d=True\n",
    "type(d)"
   ]
  },
  {
   "cell_type": "code",
   "execution_count": 5,
   "id": "464d6e99",
   "metadata": {},
   "outputs": [
    {
     "data": {
      "text/plain": [
       "range"
      ]
     },
     "execution_count": 5,
     "metadata": {},
     "output_type": "execute_result"
    }
   ],
   "source": [
    "e=range(5)\n",
    "type(e)"
   ]
  },
  {
   "cell_type": "code",
   "execution_count": 6,
   "id": "6e8c8311",
   "metadata": {},
   "outputs": [
    {
     "data": {
      "text/plain": [
       "list"
      ]
     },
     "execution_count": 6,
     "metadata": {},
     "output_type": "execute_result"
    }
   ],
   "source": [
    "f=['mahi','ravi','jitu','viju']\n",
    "f\n",
    "type(f)"
   ]
  },
  {
   "cell_type": "markdown",
   "id": "d295a5a3",
   "metadata": {},
   "source": [
    "## Slicing of strings\n",
    "slice means piece.\n",
    "[] operator is called slice operator,which can be used to retrueve parts of string.the index can be +ve or -ve.\n",
    "+ve index left to right.\n",
    "-ve index right to left.\n"
   ]
  },
  {
   "cell_type": "code",
   "execution_count": 13,
   "id": "e3c1097b",
   "metadata": {},
   "outputs": [],
   "source": [
    "s= \"Mahendra\""
   ]
  },
  {
   "cell_type": "code",
   "execution_count": 14,
   "id": "f4bdcad6",
   "metadata": {},
   "outputs": [
    {
     "data": {
      "text/plain": [
       "'M'"
      ]
     },
     "execution_count": 14,
     "metadata": {},
     "output_type": "execute_result"
    }
   ],
   "source": [
    "s[0]"
   ]
  },
  {
   "cell_type": "code",
   "execution_count": 9,
   "id": "bd927fb0",
   "metadata": {},
   "outputs": [
    {
     "data": {
      "text/plain": [
       "'a'"
      ]
     },
     "execution_count": 9,
     "metadata": {},
     "output_type": "execute_result"
    }
   ],
   "source": [
    "s[1]"
   ]
  },
  {
   "cell_type": "code",
   "execution_count": 10,
   "id": "ce702c10",
   "metadata": {},
   "outputs": [
    {
     "data": {
      "text/plain": [
       "'a'"
      ]
     },
     "execution_count": 10,
     "metadata": {},
     "output_type": "execute_result"
    }
   ],
   "source": [
    "s[-1]"
   ]
  },
  {
   "cell_type": "code",
   "execution_count": 11,
   "id": "87927e98",
   "metadata": {},
   "outputs": [
    {
     "data": {
      "text/plain": [
       "'r'"
      ]
     },
     "execution_count": 11,
     "metadata": {},
     "output_type": "execute_result"
    }
   ],
   "source": [
    "s[-2]"
   ]
  },
  {
   "cell_type": "code",
   "execution_count": 12,
   "id": "611baa0f",
   "metadata": {},
   "outputs": [
    {
     "ename": "IndexError",
     "evalue": "string index out of range",
     "output_type": "error",
     "traceback": [
      "\u001b[1;31m---------------------------------------------------------------------------\u001b[0m",
      "\u001b[1;31mIndexError\u001b[0m                                Traceback (most recent call last)",
      "Cell \u001b[1;32mIn[12], line 1\u001b[0m\n\u001b[1;32m----> 1\u001b[0m \u001b[43ms\u001b[49m\u001b[43m[\u001b[49m\u001b[38;5;241;43m15\u001b[39;49m\u001b[43m]\u001b[49m\n",
      "\u001b[1;31mIndexError\u001b[0m: string index out of range"
     ]
    }
   ],
   "source": [
    "s[15]"
   ]
  },
  {
   "cell_type": "code",
   "execution_count": 15,
   "id": "ecc04ac1",
   "metadata": {},
   "outputs": [
    {
     "data": {
      "text/plain": [
       "'ahe'"
      ]
     },
     "execution_count": 15,
     "metadata": {},
     "output_type": "execute_result"
    }
   ],
   "source": [
    "s[1:4]"
   ]
  },
  {
   "cell_type": "code",
   "execution_count": 16,
   "id": "8e39ea82",
   "metadata": {},
   "outputs": [
    {
     "data": {
      "text/plain": [
       "'ahendra'"
      ]
     },
     "execution_count": 16,
     "metadata": {},
     "output_type": "execute_result"
    }
   ],
   "source": [
    "s[1:]"
   ]
  },
  {
   "cell_type": "code",
   "execution_count": 17,
   "id": "185b853a",
   "metadata": {},
   "outputs": [
    {
     "data": {
      "text/plain": [
       "'Mahe'"
      ]
     },
     "execution_count": 17,
     "metadata": {},
     "output_type": "execute_result"
    }
   ],
   "source": [
    "s[:4]"
   ]
  },
  {
   "cell_type": "code",
   "execution_count": 18,
   "id": "cf33289a",
   "metadata": {},
   "outputs": [
    {
     "data": {
      "text/plain": [
       "'Mahendra'"
      ]
     },
     "execution_count": 18,
     "metadata": {},
     "output_type": "execute_result"
    }
   ],
   "source": [
    "s"
   ]
  },
  {
   "cell_type": "code",
   "execution_count": 19,
   "id": "b7034e74",
   "metadata": {},
   "outputs": [
    {
     "data": {
      "text/plain": [
       "'Mahen'"
      ]
     },
     "execution_count": 19,
     "metadata": {},
     "output_type": "execute_result"
    }
   ],
   "source": [
    "s[:5]"
   ]
  },
  {
   "cell_type": "code",
   "execution_count": 20,
   "id": "30da3f95",
   "metadata": {},
   "outputs": [
    {
     "data": {
      "text/plain": [
       "'Mahendra'"
      ]
     },
     "execution_count": 20,
     "metadata": {},
     "output_type": "execute_result"
    }
   ],
   "source": [
    "s[:]"
   ]
  },
  {
   "cell_type": "code",
   "execution_count": 21,
   "id": "b1d01ec0",
   "metadata": {},
   "outputs": [
    {
     "data": {
      "text/plain": [
       "8"
      ]
     },
     "execution_count": 21,
     "metadata": {},
     "output_type": "execute_result"
    }
   ],
   "source": [
    "len(s)"
   ]
  },
  {
   "cell_type": "markdown",
   "id": "0c6c56a3",
   "metadata": {},
   "source": [
    "# Type Casting\n",
    "we can convert one type value to another type.this conversion is called Type casting or Type Coersion.\n",
    "1.int()\n",
    "2.float()\n",
    "3.complex()\n",
    "4.bool()\n",
    "5.str()"
   ]
  },
  {
   "cell_type": "markdown",
   "id": "a98c974e",
   "metadata": {},
   "source": [
    "# 1.int()\n",
    "we can use this function to convert values from other type to int."
   ]
  },
  {
   "cell_type": "code",
   "execution_count": 22,
   "id": "9a1473b1",
   "metadata": {},
   "outputs": [
    {
     "data": {
      "text/plain": [
       "25"
      ]
     },
     "execution_count": 22,
     "metadata": {},
     "output_type": "execute_result"
    }
   ],
   "source": [
    "int(25.56)"
   ]
  },
  {
   "cell_type": "code",
   "execution_count": 23,
   "id": "769a7343",
   "metadata": {},
   "outputs": [
    {
     "ename": "TypeError",
     "evalue": "int() argument must be a string, a bytes-like object or a real number, not 'complex'",
     "output_type": "error",
     "traceback": [
      "\u001b[1;31m---------------------------------------------------------------------------\u001b[0m",
      "\u001b[1;31mTypeError\u001b[0m                                 Traceback (most recent call last)",
      "Cell \u001b[1;32mIn[23], line 1\u001b[0m\n\u001b[1;32m----> 1\u001b[0m \u001b[38;5;28;43mint\u001b[39;49m\u001b[43m(\u001b[49m\u001b[38;5;241;43m10\u001b[39;49m\u001b[38;5;241;43m+\u001b[39;49m\u001b[38;5;241;43m5\u001b[39;49m\u001b[43mj\u001b[49m\u001b[43m)\u001b[49m\n",
      "\u001b[1;31mTypeError\u001b[0m: int() argument must be a string, a bytes-like object or a real number, not 'complex'"
     ]
    }
   ],
   "source": [
    "int(10+5j)"
   ]
  },
  {
   "cell_type": "code",
   "execution_count": 24,
   "id": "e89c6412",
   "metadata": {},
   "outputs": [
    {
     "data": {
      "text/plain": [
       "1"
      ]
     },
     "execution_count": 24,
     "metadata": {},
     "output_type": "execute_result"
    }
   ],
   "source": [
    "int(True)"
   ]
  },
  {
   "cell_type": "code",
   "execution_count": 25,
   "id": "0c74f724",
   "metadata": {},
   "outputs": [
    {
     "data": {
      "text/plain": [
       "0"
      ]
     },
     "execution_count": 25,
     "metadata": {},
     "output_type": "execute_result"
    }
   ],
   "source": [
    "int(False)"
   ]
  },
  {
   "cell_type": "code",
   "execution_count": 26,
   "id": "08386b14",
   "metadata": {},
   "outputs": [
    {
     "ename": "ValueError",
     "evalue": "invalid literal for int() with base 10: '10.5'",
     "output_type": "error",
     "traceback": [
      "\u001b[1;31m---------------------------------------------------------------------------\u001b[0m",
      "\u001b[1;31mValueError\u001b[0m                                Traceback (most recent call last)",
      "Cell \u001b[1;32mIn[26], line 1\u001b[0m\n\u001b[1;32m----> 1\u001b[0m \u001b[38;5;28;43mint\u001b[39;49m\u001b[43m(\u001b[49m\u001b[38;5;124;43m'\u001b[39;49m\u001b[38;5;124;43m10.5\u001b[39;49m\u001b[38;5;124;43m'\u001b[39;49m\u001b[43m)\u001b[49m\n",
      "\u001b[1;31mValueError\u001b[0m: invalid literal for int() with base 10: '10.5'"
     ]
    }
   ],
   "source": [
    "int('10.5')"
   ]
  },
  {
   "cell_type": "code",
   "execution_count": 27,
   "id": "b0200eb9",
   "metadata": {},
   "outputs": [
    {
     "data": {
      "text/plain": [
       "10"
      ]
     },
     "execution_count": 27,
     "metadata": {},
     "output_type": "execute_result"
    }
   ],
   "source": [
    "int('10')"
   ]
  },
  {
   "cell_type": "code",
   "execution_count": 28,
   "id": "06cc5287",
   "metadata": {},
   "outputs": [
    {
     "ename": "ValueError",
     "evalue": "invalid literal for int() with base 10: 'ten'",
     "output_type": "error",
     "traceback": [
      "\u001b[1;31m---------------------------------------------------------------------------\u001b[0m",
      "\u001b[1;31mValueError\u001b[0m                                Traceback (most recent call last)",
      "Cell \u001b[1;32mIn[28], line 1\u001b[0m\n\u001b[1;32m----> 1\u001b[0m \u001b[38;5;28;43mint\u001b[39;49m\u001b[43m(\u001b[49m\u001b[38;5;124;43m'\u001b[39;49m\u001b[38;5;124;43mten\u001b[39;49m\u001b[38;5;124;43m'\u001b[39;49m\u001b[43m)\u001b[49m\n",
      "\u001b[1;31mValueError\u001b[0m: invalid literal for int() with base 10: 'ten'"
     ]
    }
   ],
   "source": [
    "int('ten')"
   ]
  },
  {
   "cell_type": "markdown",
   "id": "65a08adf",
   "metadata": {},
   "source": [
    "## Fundamental Data Type vs Immutability:"
   ]
  },
  {
   "cell_type": "markdown",
   "id": "e521ebec",
   "metadata": {},
   "source": [
    "### All fundamental Datatyps are immutable.i.e once we creates an object,we cannot perform any changes in that object.if we trying to change then with those changes a new object will be created.This non-changeable behaviour is called immutability."
   ]
  },
  {
   "cell_type": "markdown",
   "id": "8c273591",
   "metadata": {},
   "source": [
    "### List Data Type :\n",
    "if we want to represent a group of values as a single entity where insertion order required to preserve and duplicates are allowed then we should go for list data type."
   ]
  },
  {
   "cell_type": "code",
   "execution_count": 29,
   "id": "6e663084",
   "metadata": {},
   "outputs": [
    {
     "data": {
      "text/plain": [
       "[10, 10.5, 'mahi', True, 5]"
      ]
     },
     "execution_count": 29,
     "metadata": {},
     "output_type": "execute_result"
    }
   ],
   "source": [
    "list=[10,10.5,'mahi',True,5]\n",
    "list"
   ]
  },
  {
   "cell_type": "code",
   "execution_count": 30,
   "id": "3cf0e58c",
   "metadata": {},
   "outputs": [
    {
     "name": "stdout",
     "output_type": "stream",
     "text": [
      "10\n",
      "10.5\n",
      "mahi\n",
      "True\n",
      "5\n"
     ]
    }
   ],
   "source": [
    "for i in list:\n",
    "    print(i)"
   ]
  },
  {
   "cell_type": "markdown",
   "id": "c505e89e",
   "metadata": {},
   "source": [
    "## .append()"
   ]
  },
  {
   "cell_type": "code",
   "execution_count": 32,
   "id": "f00f94da",
   "metadata": {},
   "outputs": [],
   "source": [
    "list.append('jitu')"
   ]
  },
  {
   "cell_type": "markdown",
   "id": "42c8bcb7",
   "metadata": {},
   "source": [
    ".append() use to add value at last place."
   ]
  },
  {
   "cell_type": "code",
   "execution_count": 33,
   "id": "4a03594a",
   "metadata": {},
   "outputs": [
    {
     "data": {
      "text/plain": [
       "[10, 10.5, 'mahi', True, 5, 'jitu', 'jitu']"
      ]
     },
     "execution_count": 33,
     "metadata": {},
     "output_type": "execute_result"
    }
   ],
   "source": [
    "list"
   ]
  },
  {
   "cell_type": "markdown",
   "id": "7e0e7c3d",
   "metadata": {},
   "source": [
    "## .remove()"
   ]
  },
  {
   "cell_type": "markdown",
   "id": "a8b410fc",
   "metadata": {},
   "source": [
    " .remove() use to eliminate value by value from list."
   ]
  },
  {
   "cell_type": "code",
   "execution_count": 34,
   "id": "09af4de9",
   "metadata": {},
   "outputs": [],
   "source": [
    "list.remove(10.5)"
   ]
  },
  {
   "cell_type": "code",
   "execution_count": 35,
   "id": "0f93dc5a",
   "metadata": {},
   "outputs": [
    {
     "data": {
      "text/plain": [
       "[10, 'mahi', True, 5, 'jitu', 'jitu']"
      ]
     },
     "execution_count": 35,
     "metadata": {},
     "output_type": "execute_result"
    }
   ],
   "source": [
    "list"
   ]
  },
  {
   "cell_type": "markdown",
   "id": "7282a1b7",
   "metadata": {},
   "source": [
    "## .pop()"
   ]
  },
  {
   "cell_type": "code",
   "execution_count": 36,
   "id": "a74f27da",
   "metadata": {},
   "outputs": [
    {
     "data": {
      "text/plain": [
       "[10, 'mahi', True, 5, 'jitu', 'jitu']"
      ]
     },
     "execution_count": 36,
     "metadata": {},
     "output_type": "execute_result"
    }
   ],
   "source": [
    "list"
   ]
  },
  {
   "cell_type": "code",
   "execution_count": 38,
   "id": "b3e3a6cf",
   "metadata": {},
   "outputs": [
    {
     "data": {
      "text/plain": [
       "'jitu'"
      ]
     },
     "execution_count": 38,
     "metadata": {},
     "output_type": "execute_result"
    }
   ],
   "source": [
    "list.pop(4)"
   ]
  },
  {
   "cell_type": "code",
   "execution_count": 39,
   "id": "05caa24d",
   "metadata": {},
   "outputs": [
    {
     "data": {
      "text/plain": [
       "[10, 'mahi', True, 'jitu']"
      ]
     },
     "execution_count": 39,
     "metadata": {},
     "output_type": "execute_result"
    }
   ],
   "source": [
    "list"
   ]
  },
  {
   "cell_type": "markdown",
   "id": "2b9eaf2b",
   "metadata": {},
   "source": [
    "## tuple data type :\n",
    "tuple data type is exactly same as list data type except that is immutable.i.e we cannot change values.\n",
    "tuple elements can be represented within parenthesis."
   ]
  },
  {
   "cell_type": "code",
   "execution_count": 40,
   "id": "d93d28a6",
   "metadata": {},
   "outputs": [
    {
     "data": {
      "text/plain": [
       "tuple"
      ]
     },
     "execution_count": 40,
     "metadata": {},
     "output_type": "execute_result"
    }
   ],
   "source": [
    "t=(10,20,30,40)\n",
    "type(t)"
   ]
  },
  {
   "cell_type": "code",
   "execution_count": 41,
   "id": "625bdc22",
   "metadata": {},
   "outputs": [
    {
     "ename": "SyntaxError",
     "evalue": "cannot assign to function call here. Maybe you meant '==' instead of '='? (1108890622.py, line 1)",
     "output_type": "error",
     "traceback": [
      "\u001b[1;36m  Cell \u001b[1;32mIn[41], line 1\u001b[1;36m\u001b[0m\n\u001b[1;33m    t(0)=100\u001b[0m\n\u001b[1;37m    ^\u001b[0m\n\u001b[1;31mSyntaxError\u001b[0m\u001b[1;31m:\u001b[0m cannot assign to function call here. Maybe you meant '==' instead of '='?\n"
     ]
    }
   ],
   "source": [
    "t(0)=100"
   ]
  },
  {
   "cell_type": "code",
   "execution_count": 42,
   "id": "4936f0a9",
   "metadata": {},
   "outputs": [
    {
     "ename": "AttributeError",
     "evalue": "'tuple' object has no attribute 'append'",
     "output_type": "error",
     "traceback": [
      "\u001b[1;31m---------------------------------------------------------------------------\u001b[0m",
      "\u001b[1;31mAttributeError\u001b[0m                            Traceback (most recent call last)",
      "Cell \u001b[1;32mIn[42], line 1\u001b[0m\n\u001b[1;32m----> 1\u001b[0m \u001b[43mt\u001b[49m\u001b[38;5;241;43m.\u001b[39;49m\u001b[43mappend\u001b[49m(\u001b[38;5;124m'\u001b[39m\u001b[38;5;124mmahi\u001b[39m\u001b[38;5;124m'\u001b[39m)\n",
      "\u001b[1;31mAttributeError\u001b[0m: 'tuple' object has no attribute 'append'"
     ]
    }
   ],
   "source": [
    "t.append('mahi')"
   ]
  },
  {
   "cell_type": "code",
   "execution_count": 43,
   "id": "e8d05e19",
   "metadata": {},
   "outputs": [
    {
     "ename": "AttributeError",
     "evalue": "'tuple' object has no attribute 'remove'",
     "output_type": "error",
     "traceback": [
      "\u001b[1;31m---------------------------------------------------------------------------\u001b[0m",
      "\u001b[1;31mAttributeError\u001b[0m                            Traceback (most recent call last)",
      "Cell \u001b[1;32mIn[43], line 1\u001b[0m\n\u001b[1;32m----> 1\u001b[0m \u001b[43mt\u001b[49m\u001b[38;5;241;43m.\u001b[39;49m\u001b[43mremove\u001b[49m(\u001b[38;5;241m10\u001b[39m)\n",
      "\u001b[1;31mAttributeError\u001b[0m: 'tuple' object has no attribute 'remove'"
     ]
    }
   ],
   "source": [
    "t.remove(10)"
   ]
  },
  {
   "cell_type": "markdown",
   "id": "68f8fce8",
   "metadata": {},
   "source": [
    "## range data type\n",
    "range data type represents a sequence of numbers.\n",
    "the elements present in range data type are not modificable.i.e range data type is immutable."
   ]
  },
  {
   "cell_type": "code",
   "execution_count": 44,
   "id": "81135ed3",
   "metadata": {},
   "outputs": [
    {
     "data": {
      "text/plain": [
       "range(0, 10)"
      ]
     },
     "execution_count": 44,
     "metadata": {},
     "output_type": "execute_result"
    }
   ],
   "source": [
    "range(10)"
   ]
  },
  {
   "cell_type": "code",
   "execution_count": 45,
   "id": "09181611",
   "metadata": {},
   "outputs": [
    {
     "name": "stdout",
     "output_type": "stream",
     "text": [
      "0\n",
      "1\n",
      "2\n",
      "3\n",
      "4\n",
      "5\n",
      "6\n",
      "7\n",
      "8\n",
      "9\n"
     ]
    }
   ],
   "source": [
    "r = range(10)\n",
    "\n",
    "for i in r:\n",
    "    print(i)"
   ]
  },
  {
   "cell_type": "code",
   "execution_count": 46,
   "id": "b1f3c285",
   "metadata": {},
   "outputs": [
    {
     "data": {
      "text/plain": [
       "range(10, 20)"
      ]
     },
     "execution_count": 46,
     "metadata": {},
     "output_type": "execute_result"
    }
   ],
   "source": [
    "a=range(10,20)\n",
    "a"
   ]
  },
  {
   "cell_type": "code",
   "execution_count": 47,
   "id": "9e8dafa4",
   "metadata": {},
   "outputs": [
    {
     "name": "stdout",
     "output_type": "stream",
     "text": [
      "10\n",
      "11\n",
      "12\n",
      "13\n",
      "14\n",
      "15\n",
      "16\n",
      "17\n",
      "18\n",
      "19\n"
     ]
    }
   ],
   "source": [
    "a=range(10,20)\n",
    "for i in a:\n",
    "    print(i)"
   ]
  },
  {
   "cell_type": "code",
   "execution_count": 48,
   "id": "c1dfc614",
   "metadata": {},
   "outputs": [
    {
     "name": "stdout",
     "output_type": "stream",
     "text": [
      "10\n",
      "12\n",
      "14\n",
      "16\n",
      "18\n"
     ]
    }
   ],
   "source": [
    "b=range(10,20,2)\n",
    "\n",
    "for i in b:\n",
    "    print(i)"
   ]
  },
  {
   "cell_type": "markdown",
   "id": "1b34504c",
   "metadata": {},
   "source": [
    "## set data type\n",
    "if we want to represent a group of values without duplicates where order is not important then we should go for set data type.\n",
    "we can add and remove function."
   ]
  },
  {
   "cell_type": "code",
   "execution_count": 49,
   "id": "09707ac7",
   "metadata": {},
   "outputs": [
    {
     "data": {
      "text/plain": [
       "{0, 10, 100, 200, 'mahi'}"
      ]
     },
     "execution_count": 49,
     "metadata": {},
     "output_type": "execute_result"
    }
   ],
   "source": [
    "s={100,0,10,200,10,'mahi'}\n",
    "s"
   ]
  },
  {
   "cell_type": "code",
   "execution_count": 50,
   "id": "4676b9df",
   "metadata": {},
   "outputs": [
    {
     "data": {
      "text/plain": [
       "set"
      ]
     },
     "execution_count": 50,
     "metadata": {},
     "output_type": "execute_result"
    }
   ],
   "source": [
    "type(s)"
   ]
  },
  {
   "cell_type": "markdown",
   "id": "beeff734",
   "metadata": {},
   "source": [
    "## Frozenset Data type\n",
    "it is exactly same as set except that is it is immutable.\n",
    "Hence we cannot use add or remove function."
   ]
  },
  {
   "cell_type": "markdown",
   "id": "c5050fa9",
   "metadata": {},
   "source": [
    "## Dict Data type\n",
    "if we want to represent a group of values as key-value pairs then we should go for dict data type."
   ]
  },
  {
   "cell_type": "code",
   "execution_count": 51,
   "id": "8ea9d8c8",
   "metadata": {},
   "outputs": [
    {
     "data": {
      "text/plain": [
       "{101: 'durga', 102: 'ravi', 103: 'shiva'}"
      ]
     },
     "execution_count": 51,
     "metadata": {},
     "output_type": "execute_result"
    }
   ],
   "source": [
    "d={101:'durga',102:'ravi',103:'shiva'}\n",
    "d"
   ]
  },
  {
   "cell_type": "markdown",
   "id": "a0bc737f",
   "metadata": {},
   "source": [
    "#### Duplicate keys are not allowed but values can be duplicated.if we are trying to insert an entry with duplicate key then old value will be replace with new value."
   ]
  },
  {
   "cell_type": "code",
   "execution_count": 52,
   "id": "032cf91b",
   "metadata": {},
   "outputs": [
    {
     "data": {
      "text/plain": [
       "{101: 'durga', 102: 'ravi', 103: 'shiva'}"
      ]
     },
     "execution_count": 52,
     "metadata": {},
     "output_type": "execute_result"
    }
   ],
   "source": [
    "d={101:'durga',102:'ravi',103:'shiva'}\n",
    "d"
   ]
  },
  {
   "cell_type": "code",
   "execution_count": 53,
   "id": "fad2c46a",
   "metadata": {},
   "outputs": [
    {
     "data": {
      "text/plain": [
       "{101: 'sunny', 102: 'ravi', 103: 'shiva'}"
      ]
     },
     "execution_count": 53,
     "metadata": {},
     "output_type": "execute_result"
    }
   ],
   "source": [
    "d[101]='sunny'\n",
    "d"
   ]
  },
  {
   "cell_type": "markdown",
   "id": "fa5db7ab",
   "metadata": {},
   "source": [
    "#### we can create empty dictionary as follows\n",
    "d={}"
   ]
  },
  {
   "cell_type": "markdown",
   "id": "697219b6",
   "metadata": {},
   "source": [
    "#### we can add key-value pairs as follows"
   ]
  },
  {
   "cell_type": "code",
   "execution_count": 54,
   "id": "3efb615a",
   "metadata": {},
   "outputs": [
    {
     "name": "stdout",
     "output_type": "stream",
     "text": [
      "{101: 'sunny', 102: 'ravi', 103: 'shiva', 'a': 'apple', 'b': 'banana'}\n"
     ]
    }
   ],
   "source": [
    "d['a']='apple'\n",
    "d['b']='banana'\n",
    "print(d)\n",
    "# Note:dict is mutable and the order wont be preserved."
   ]
  },
  {
   "cell_type": "markdown",
   "id": "89740582",
   "metadata": {},
   "source": [
    "# Escape Characters"
   ]
  },
  {
   "cell_type": "markdown",
   "id": "5db6bc6a",
   "metadata": {},
   "source": [
    "#### \\n --> New line\n",
    "     \\t --> Horizontal Line\n",
    "     \\r --> Carriage Return\n",
    "     \\b --> Back space\n",
    "     \\f --> Form Feed\n",
    "     \\v --> Vertical Tab\n",
    "     \\' --> Single Quote\n",
    "     \\\" --> Double Quote\n",
    "     \\\\ --> Back Slash Symbol"
   ]
  },
  {
   "cell_type": "markdown",
   "id": "631c1c2c",
   "metadata": {},
   "source": [
    "##### Constant concept is not applicable in python.\n",
    "But it is convention to use only uppercase character if we dont want to change value.\n",
    "MAX_VALUE = 10\n",
    "It is just convention but we can change the value."
   ]
  },
  {
   "cell_type": "code",
   "execution_count": null,
   "id": "bdbb703d",
   "metadata": {},
   "outputs": [],
   "source": []
  }
 ],
 "metadata": {
  "kernelspec": {
   "display_name": "Python 3 (ipykernel)",
   "language": "python",
   "name": "python3"
  },
  "language_info": {
   "codemirror_mode": {
    "name": "ipython",
    "version": 3
   },
   "file_extension": ".py",
   "mimetype": "text/x-python",
   "name": "python",
   "nbconvert_exporter": "python",
   "pygments_lexer": "ipython3",
   "version": "3.10.9"
  }
 },
 "nbformat": 4,
 "nbformat_minor": 5
}
